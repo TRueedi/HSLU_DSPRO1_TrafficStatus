{
 "cells": [
  {
   "cell_type": "code",
   "execution_count": 2,
   "metadata": {},
   "outputs": [],
   "source": [
    "%load_ext autoreload\n",
    "%autoreload 2"
   ]
  },
  {
   "cell_type": "code",
   "execution_count": 1,
   "metadata": {},
   "outputs": [],
   "source": [
    "import pandas as pd\n",
    "import knn_model as knn"
   ]
  },
  {
   "cell_type": "code",
   "execution_count": 3,
   "metadata": {},
   "outputs": [],
   "source": [
    "train_data_path = '/Users/finneyer/Documents/HSLU/Semester 3/DSPRO1/Projektarbeit/Data/1/London_UTD19_train_Sniper_0.csv'\n",
    "test_data_path = '/Users/finneyer/Documents/HSLU/Semester 3/DSPRO1/Projektarbeit/Data/1/London_UTD19_test_Sniper_0.csv'\n",
    "save_path = '/Users/finneyer/Documents/HSLU/Semester 3/DSPRO1/Projektarbeit/models/knn/10'"
   ]
  },
  {
   "cell_type": "code",
   "execution_count": 4,
   "metadata": {},
   "outputs": [],
   "source": [
    "# Load data from dataset 1\n",
    "train_data = pd.read_csv(train_data_path)\n",
    "train_data = train_data.drop(columns=['long', 'lat', 'pos', 'length','fclass'], axis = 1)\n",
    "test_data = pd.read_csv(test_data_path)\n",
    "test_data = test_data.drop(columns=['long', 'lat', 'pos', 'length','fclass'], axis = 1)"
   ]
  },
  {
   "cell_type": "code",
   "execution_count": 5,
   "metadata": {},
   "outputs": [
    {
     "data": {
      "text/html": [
       "<div>\n",
       "<style scoped>\n",
       "    .dataframe tbody tr th:only-of-type {\n",
       "        vertical-align: middle;\n",
       "    }\n",
       "\n",
       "    .dataframe tbody tr th {\n",
       "        vertical-align: top;\n",
       "    }\n",
       "\n",
       "    .dataframe thead th {\n",
       "        text-align: right;\n",
       "    }\n",
       "</style>\n",
       "<table border=\"1\" class=\"dataframe\">\n",
       "  <thead>\n",
       "    <tr style=\"text-align: right;\">\n",
       "      <th></th>\n",
       "      <th>interval</th>\n",
       "      <th>detid</th>\n",
       "      <th>weekday</th>\n",
       "      <th>traffic</th>\n",
       "    </tr>\n",
       "  </thead>\n",
       "  <tbody>\n",
       "    <tr>\n",
       "      <th>0</th>\n",
       "      <td>0.0</td>\n",
       "      <td>CNTR_N00/005g1</td>\n",
       "      <td>Friday</td>\n",
       "      <td>48</td>\n",
       "    </tr>\n",
       "    <tr>\n",
       "      <th>1</th>\n",
       "      <td>3600.0</td>\n",
       "      <td>CNTR_N00/005g1</td>\n",
       "      <td>Friday</td>\n",
       "      <td>41</td>\n",
       "    </tr>\n",
       "    <tr>\n",
       "      <th>2</th>\n",
       "      <td>7200.0</td>\n",
       "      <td>CNTR_N00/005g1</td>\n",
       "      <td>Friday</td>\n",
       "      <td>25</td>\n",
       "    </tr>\n",
       "    <tr>\n",
       "      <th>3</th>\n",
       "      <td>10800.0</td>\n",
       "      <td>CNTR_N00/005g1</td>\n",
       "      <td>Friday</td>\n",
       "      <td>13</td>\n",
       "    </tr>\n",
       "    <tr>\n",
       "      <th>4</th>\n",
       "      <td>14400.0</td>\n",
       "      <td>CNTR_N00/005g1</td>\n",
       "      <td>Friday</td>\n",
       "      <td>14</td>\n",
       "    </tr>\n",
       "    <tr>\n",
       "      <th>...</th>\n",
       "      <td>...</td>\n",
       "      <td>...</td>\n",
       "      <td>...</td>\n",
       "      <td>...</td>\n",
       "    </tr>\n",
       "    <tr>\n",
       "      <th>1563355</th>\n",
       "      <td>72000.0</td>\n",
       "      <td>SOUT_N10/313b1</td>\n",
       "      <td>Sunday</td>\n",
       "      <td>16</td>\n",
       "    </tr>\n",
       "    <tr>\n",
       "      <th>1563356</th>\n",
       "      <td>75600.0</td>\n",
       "      <td>SOUT_N10/313b1</td>\n",
       "      <td>Sunday</td>\n",
       "      <td>6</td>\n",
       "    </tr>\n",
       "    <tr>\n",
       "      <th>1563357</th>\n",
       "      <td>79200.0</td>\n",
       "      <td>SOUT_N10/313b1</td>\n",
       "      <td>Sunday</td>\n",
       "      <td>4</td>\n",
       "    </tr>\n",
       "    <tr>\n",
       "      <th>1563358</th>\n",
       "      <td>82800.0</td>\n",
       "      <td>SOUT_N10/313b1</td>\n",
       "      <td>Sunday</td>\n",
       "      <td>3</td>\n",
       "    </tr>\n",
       "    <tr>\n",
       "      <th>1563359</th>\n",
       "      <td>86400.0</td>\n",
       "      <td>SOUT_N10/313b1</td>\n",
       "      <td>Sunday</td>\n",
       "      <td>1</td>\n",
       "    </tr>\n",
       "  </tbody>\n",
       "</table>\n",
       "<p>1563360 rows × 4 columns</p>\n",
       "</div>"
      ],
      "text/plain": [
       "         interval           detid weekday  traffic\n",
       "0             0.0  CNTR_N00/005g1  Friday       48\n",
       "1          3600.0  CNTR_N00/005g1  Friday       41\n",
       "2          7200.0  CNTR_N00/005g1  Friday       25\n",
       "3         10800.0  CNTR_N00/005g1  Friday       13\n",
       "4         14400.0  CNTR_N00/005g1  Friday       14\n",
       "...           ...             ...     ...      ...\n",
       "1563355   72000.0  SOUT_N10/313b1  Sunday       16\n",
       "1563356   75600.0  SOUT_N10/313b1  Sunday        6\n",
       "1563357   79200.0  SOUT_N10/313b1  Sunday        4\n",
       "1563358   82800.0  SOUT_N10/313b1  Sunday        3\n",
       "1563359   86400.0  SOUT_N10/313b1  Sunday        1\n",
       "\n",
       "[1563360 rows x 4 columns]"
      ]
     },
     "execution_count": 5,
     "metadata": {},
     "output_type": "execute_result"
    }
   ],
   "source": [
    "train_data"
   ]
  },
  {
   "cell_type": "code",
   "execution_count": 6,
   "metadata": {},
   "outputs": [],
   "source": [
    "knn.train_knn_models(train_data, save_path)"
   ]
  },
  {
   "cell_type": "code",
   "execution_count": 7,
   "metadata": {},
   "outputs": [],
   "source": [
    "metrics = knn.evaluate_knn_models(test_data, save_path)"
   ]
  },
  {
   "cell_type": "code",
   "execution_count": 8,
   "metadata": {},
   "outputs": [
    {
     "data": {
      "text/html": [
       "<div>\n",
       "<style scoped>\n",
       "    .dataframe tbody tr th:only-of-type {\n",
       "        vertical-align: middle;\n",
       "    }\n",
       "\n",
       "    .dataframe tbody tr th {\n",
       "        vertical-align: top;\n",
       "    }\n",
       "\n",
       "    .dataframe thead th {\n",
       "        text-align: right;\n",
       "    }\n",
       "</style>\n",
       "<table border=\"1\" class=\"dataframe\">\n",
       "  <thead>\n",
       "    <tr style=\"text-align: right;\">\n",
       "      <th></th>\n",
       "      <th>detid</th>\n",
       "      <th>MAE</th>\n",
       "      <th>MSE</th>\n",
       "      <th>R2</th>\n",
       "    </tr>\n",
       "  </thead>\n",
       "  <tbody>\n",
       "    <tr>\n",
       "      <th>0</th>\n",
       "      <td>CNTR_N00/005g1</td>\n",
       "      <td>22.517241</td>\n",
       "      <td>662.231034</td>\n",
       "      <td>0.456800</td>\n",
       "    </tr>\n",
       "    <tr>\n",
       "      <th>1</th>\n",
       "      <td>CNTR_N00/005g2</td>\n",
       "      <td>23.074074</td>\n",
       "      <td>711.407407</td>\n",
       "      <td>0.097833</td>\n",
       "    </tr>\n",
       "    <tr>\n",
       "      <th>2</th>\n",
       "      <td>CNTR_N00/005x1</td>\n",
       "      <td>5.135802</td>\n",
       "      <td>48.716049</td>\n",
       "      <td>0.449617</td>\n",
       "    </tr>\n",
       "    <tr>\n",
       "      <th>3</th>\n",
       "      <td>CNTR_N00/005x2</td>\n",
       "      <td>8.613558</td>\n",
       "      <td>148.544668</td>\n",
       "      <td>0.686224</td>\n",
       "    </tr>\n",
       "    <tr>\n",
       "      <th>4</th>\n",
       "      <td>CNTR_N01/001b1</td>\n",
       "      <td>6.818182</td>\n",
       "      <td>124.097222</td>\n",
       "      <td>0.905393</td>\n",
       "    </tr>\n",
       "    <tr>\n",
       "      <th>...</th>\n",
       "      <td>...</td>\n",
       "      <td>...</td>\n",
       "      <td>...</td>\n",
       "      <td>...</td>\n",
       "    </tr>\n",
       "    <tr>\n",
       "      <th>3580</th>\n",
       "      <td>SOUT_N10/265x1</td>\n",
       "      <td>4.288462</td>\n",
       "      <td>58.912927</td>\n",
       "      <td>0.390344</td>\n",
       "    </tr>\n",
       "    <tr>\n",
       "      <th>3581</th>\n",
       "      <td>SOUT_N10/275a1</td>\n",
       "      <td>2.531746</td>\n",
       "      <td>13.817460</td>\n",
       "      <td>0.766524</td>\n",
       "    </tr>\n",
       "    <tr>\n",
       "      <th>3582</th>\n",
       "      <td>SOUT_N10/275b1</td>\n",
       "      <td>2.510714</td>\n",
       "      <td>10.483163</td>\n",
       "      <td>0.637879</td>\n",
       "    </tr>\n",
       "    <tr>\n",
       "      <th>3583</th>\n",
       "      <td>SOUT_N10/313a1</td>\n",
       "      <td>5.756410</td>\n",
       "      <td>86.970798</td>\n",
       "      <td>0.686484</td>\n",
       "    </tr>\n",
       "    <tr>\n",
       "      <th>3584</th>\n",
       "      <td>SOUT_N10/313b1</td>\n",
       "      <td>3.472789</td>\n",
       "      <td>20.564140</td>\n",
       "      <td>0.868829</td>\n",
       "    </tr>\n",
       "  </tbody>\n",
       "</table>\n",
       "<p>3585 rows × 4 columns</p>\n",
       "</div>"
      ],
      "text/plain": [
       "               detid        MAE         MSE        R2\n",
       "0     CNTR_N00/005g1  22.517241  662.231034  0.456800\n",
       "1     CNTR_N00/005g2  23.074074  711.407407  0.097833\n",
       "2     CNTR_N00/005x1   5.135802   48.716049  0.449617\n",
       "3     CNTR_N00/005x2   8.613558  148.544668  0.686224\n",
       "4     CNTR_N01/001b1   6.818182  124.097222  0.905393\n",
       "...              ...        ...         ...       ...\n",
       "3580  SOUT_N10/265x1   4.288462   58.912927  0.390344\n",
       "3581  SOUT_N10/275a1   2.531746   13.817460  0.766524\n",
       "3582  SOUT_N10/275b1   2.510714   10.483163  0.637879\n",
       "3583  SOUT_N10/313a1   5.756410   86.970798  0.686484\n",
       "3584  SOUT_N10/313b1   3.472789   20.564140  0.868829\n",
       "\n",
       "[3585 rows x 4 columns]"
      ]
     },
     "execution_count": 8,
     "metadata": {},
     "output_type": "execute_result"
    }
   ],
   "source": [
    "metrics"
   ]
  },
  {
   "cell_type": "code",
   "execution_count": 9,
   "metadata": {},
   "outputs": [
    {
     "data": {
      "text/plain": [
       "np.float64(5.942594568440849)"
      ]
     },
     "execution_count": 9,
     "metadata": {},
     "output_type": "execute_result"
    }
   ],
   "source": [
    "metrics.MAE.mean()"
   ]
  },
  {
   "cell_type": "code",
   "execution_count": 10,
   "metadata": {},
   "outputs": [
    {
     "data": {
      "text/plain": [
       "np.float64(112.20420870826388)"
      ]
     },
     "execution_count": 10,
     "metadata": {},
     "output_type": "execute_result"
    }
   ],
   "source": [
    "metrics.MSE.mean()"
   ]
  },
  {
   "cell_type": "code",
   "execution_count": 11,
   "metadata": {},
   "outputs": [
    {
     "data": {
      "text/plain": [
       "np.float64(0.7282063816978726)"
      ]
     },
     "execution_count": 11,
     "metadata": {},
     "output_type": "execute_result"
    }
   ],
   "source": [
    "metrics['R2'].mean()"
   ]
  },
  {
   "cell_type": "markdown",
   "metadata": {},
   "source": [
    "## Train KNN 4D model"
   ]
  },
  {
   "cell_type": "code",
   "execution_count": null,
   "metadata": {},
   "outputs": [],
   "source": [
    "import knn_model_4d as knn_4d"
   ]
  },
  {
   "cell_type": "code",
   "execution_count": null,
   "metadata": {},
   "outputs": [],
   "source": [
    "save_path_4d = '/Users/finneyer/Documents/HSLU/Semester 3/DSPRO1/Projektarbeit/models/knn/0.4_4d'"
   ]
  },
  {
   "cell_type": "code",
   "execution_count": null,
   "metadata": {},
   "outputs": [],
   "source": [
    "train_data_cp = train_data.copy()\n",
    "knn_4d.train_4d_knn_model(train_data_cp, save_path_4d)"
   ]
  },
  {
   "cell_type": "code",
   "execution_count": null,
   "metadata": {},
   "outputs": [],
   "source": [
    "knn_4d_model_path = '/Users/finneyer/Documents/HSLU/Semester 3/DSPRO1/Projektarbeit/models/knn/0.4_4d/knn_4d_model.pkl'\n",
    "knn_4d_label_encoder_path = '/Users/finneyer/Documents/HSLU/Semester 3/DSPRO1/Projektarbeit/models/knn/0.4_4d/label_encoder.pkl'"
   ]
  },
  {
   "cell_type": "code",
   "execution_count": null,
   "metadata": {},
   "outputs": [],
   "source": [
    "test_data_cp = test_data.copy()\n",
    "evaluation = knn_4d.evaluate_knn_4d_model(test_data_cp, knn_4d_model_path, knn_4d_label_encoder_path)"
   ]
  },
  {
   "cell_type": "code",
   "execution_count": null,
   "metadata": {},
   "outputs": [],
   "source": [
    "evaluation"
   ]
  },
  {
   "cell_type": "code",
   "execution_count": null,
   "metadata": {},
   "outputs": [],
   "source": []
  }
 ],
 "metadata": {
  "kernelspec": {
   "display_name": "DSPRO",
   "language": "python",
   "name": "python3"
  },
  "language_info": {
   "codemirror_mode": {
    "name": "ipython",
    "version": 3
   },
   "file_extension": ".py",
   "mimetype": "text/x-python",
   "name": "python",
   "nbconvert_exporter": "python",
   "pygments_lexer": "ipython3",
   "version": "3.13.0"
  }
 },
 "nbformat": 4,
 "nbformat_minor": 2
}
