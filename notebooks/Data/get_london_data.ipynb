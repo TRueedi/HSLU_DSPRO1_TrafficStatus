{
 "cells": [
  {
   "cell_type": "markdown",
   "metadata": {},
   "source": [
    "# Description of the Notebook\n",
    "This Jupyter Notebook was here to extract only the data from London out of the UTD-19 dataset"
   ]
  },
  {
   "cell_type": "code",
   "execution_count": 1,
   "metadata": {},
   "outputs": [],
   "source": [
    "import pandas as pd "
   ]
  },
  {
   "cell_type": "code",
   "execution_count": 2,
   "metadata": {},
   "outputs": [],
   "source": [
    "def load_data(path, nrows=None):\n",
    "    return pd.read_csv(path, nrows=nrows)"
   ]
  },
  {
   "cell_type": "code",
   "execution_count": null,
   "metadata": {},
   "outputs": [],
   "source": [
    "dataframe_UTD19  = load_data('UTD19.csv')\n",
    "dataframel_links = load_data('links.csv')\n",
    "dataframe_detectors = load_data('detectors_public.csv')"
   ]
  },
  {
   "cell_type": "code",
   "execution_count": null,
   "metadata": {},
   "outputs": [],
   "source": [
    "dataframe_UTD19 = dataframe_UTD19[dataframe_UTD19[\"citycode\"] == \"london\"]\n",
    "dataframel_links = dataframel_links[dataframel_links[\"citycode\"] == \"london\"]\n",
    "dataframe_detectors = dataframe_detectors[dataframe_detectors[\"citycode\"] == \"london\"]"
   ]
  },
  {
   "cell_type": "code",
   "execution_count": null,
   "metadata": {},
   "outputs": [],
   "source": [
    "dataframe_UTD19.to_csv('London_UTD19.csv', index=False)\n",
    "dataframel_links.to_csv('London_Links.csv', index=False)\n",
    "dataframe_detectors.to_csv('London_Detectors.csv', index=False)"
   ]
  }
 ],
 "metadata": {
  "kernelspec": {
   "display_name": "Python 3",
   "language": "python",
   "name": "python3"
  },
  "language_info": {
   "codemirror_mode": {
    "name": "ipython",
    "version": 3
   },
   "file_extension": ".py",
   "mimetype": "text/x-python",
   "name": "python",
   "nbconvert_exporter": "python",
   "pygments_lexer": "ipython3",
   "version": "3.10.11"
  }
 },
 "nbformat": 4,
 "nbformat_minor": 2
}
