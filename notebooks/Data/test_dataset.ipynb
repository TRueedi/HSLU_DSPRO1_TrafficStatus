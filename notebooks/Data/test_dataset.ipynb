{
 "cells": [
  {
   "cell_type": "code",
   "execution_count": 86,
   "metadata": {},
   "outputs": [],
   "source": [
    "import pandas as pd \n",
    "import matplotlib.pyplot as plt"
   ]
  },
  {
   "cell_type": "code",
   "execution_count": 87,
   "metadata": {},
   "outputs": [],
   "source": [
    "import sys\n",
    "import os\n",
    "\n",
    "# Add the directory containing the module to the system path\n",
    "module_path = os.path.abspath(os.path.join('C:\\\\Users\\\\samue\\\\OneDrive\\\\AIML\\\\HS2024\\\\Data Sicence Projekt\\\\HSLU_DSPRO1_TrafficStatus\\\\data'))\n",
    "if module_path not in sys.path:\n",
    "    sys.path.append(module_path)\n",
    "\n",
    "# Import the module\n",
    "import data_engineering_library as dlib"
   ]
  },
  {
   "cell_type": "code",
   "execution_count": 88,
   "metadata": {},
   "outputs": [
    {
     "name": "stdout",
     "output_type": "stream",
     "text": [
      "Loading data from:  C:\\Users\\samue\\OneDrive\\AIML\\HS2024\\Data Sicence Projekt\\Data\\London\\London_UTD19.csv\n",
      "Loading data from:  C:\\Users\\samue\\OneDrive\\AIML\\HS2024\\Data Sicence Projekt\\Data\\London\\London_detectors.csv\n",
      "Data loaded\n"
     ]
    }
   ],
   "source": [
    "path_from = r\"C:\\Users\\samue\\OneDrive\\AIML\\HS2024\\Data Sicence Projekt\\Data\\London\\London_UTD19.csv\"\n",
    "path_detectors = r\"C:\\Users\\samue\\OneDrive\\AIML\\HS2024\\Data Sicence Projekt\\Data\\London\\London_detectors.csv\"\n",
    "\n",
    "print(\"Loading data from: \", path_from)\n",
    "dataframe_London_UTD19 = pd.DataFrame(dlib.load_data(path=path_from, nrows=1000000))\n",
    "print(\"Loading data from: \", path_detectors)\n",
    "dataframe_detectors = pd.DataFrame(dlib.load_data(path=path_detectors))\n",
    "print(\"Data loaded\")"
   ]
  },
  {
   "cell_type": "code",
   "execution_count": 89,
   "metadata": {},
   "outputs": [
    {
     "name": "stdout",
     "output_type": "stream",
     "text": [
      "Errors found and dropped: 336130\n"
     ]
    }
   ],
   "source": [
    "dataframe_London_UTD19, errors = dlib.preprocess_dataframe(dataframe_London_UTD19)\n",
    "print(f\"Errors found and dropped: {errors}\")"
   ]
  },
  {
   "cell_type": "code",
   "execution_count": 90,
   "metadata": {},
   "outputs": [
    {
     "name": "stdout",
     "output_type": "stream",
     "text": [
      "Total outliers detected and removed: 0\n"
     ]
    }
   ],
   "source": [
    "dataframe_London_UTD19 = dlib.drop_false_values_by_date(dataframe_London_UTD19, column='flow')"
   ]
  },
  {
   "cell_type": "code",
   "execution_count": 91,
   "metadata": {},
   "outputs": [
    {
     "name": "stdout",
     "output_type": "stream",
     "text": [
      "Total outliers clipped: 113\n"
     ]
    }
   ],
   "source": [
    "dataframe_London_UTD19 = dlib.clip_outliers(dataframe_London_UTD19, column='occ', group_by_detid=True, outlier_factor=3)"
   ]
  },
  {
   "cell_type": "code",
   "execution_count": 92,
   "metadata": {},
   "outputs": [
    {
     "name": "stdout",
     "output_type": "stream",
     "text": [
      "Total outliers clipped: 2\n"
     ]
    }
   ],
   "source": [
    "dataframe_London_UTD19 = dlib.clip_outliers(dataframe_London_UTD19, column='flow', group_by_detid=True, outlier_factor=3)"
   ]
  },
  {
   "cell_type": "code",
   "execution_count": null,
   "metadata": {},
   "outputs": [],
   "source": [
    "dataframe_London_UTD19 = dlib.calculate_traffic_speed(dataframe_London_UTD19)§"
   ]
  },
  {
   "cell_type": "code",
   "execution_count": 94,
   "metadata": {},
   "outputs": [
    {
     "name": "stdout",
     "output_type": "stream",
     "text": [
      "Total outliers dropped: 15668\n"
     ]
    }
   ],
   "source": [
    "dataframe_London_UTD19 = dlib.drop_outliers(dataframe_London_UTD19, column='traffic', group_by_detid=True, outlier_factor=2)"
   ]
  },
  {
   "cell_type": "code",
   "execution_count": 95,
   "metadata": {},
   "outputs": [
    {
     "name": "stdout",
     "output_type": "stream",
     "text": [
      "Total outliers detected and removed: 0\n"
     ]
    }
   ],
   "source": [
    "dataframe_London_UTD19 = dlib.drop_false_values_by_date(dataframe_London_UTD19, column='traffic')"
   ]
  },
  {
   "cell_type": "code",
   "execution_count": 96,
   "metadata": {},
   "outputs": [
    {
     "name": "stdout",
     "output_type": "stream",
     "text": [
      "Anomalies detected based on IQR: 2\n",
      "Anomalies detected based on IQR too small: 4\n",
      "Anomalies detected based on not enough data: 42\n"
     ]
    }
   ],
   "source": [
    "dataframe_anomalies = dlib.detect_anomalies(dataframe_London_UTD19, column='traffic', factor=3, min_IQR=5, min_data_points=4000)"
   ]
  },
  {
   "cell_type": "code",
   "execution_count": 97,
   "metadata": {},
   "outputs": [
    {
     "name": "stdout",
     "output_type": "stream",
     "text": [
      "Anomalies with not enough data handled: 15\n",
      "Total amount of dropeed anomalies: 29\n"
     ]
    }
   ],
   "source": [
    "dataframe_London_UTD19, dataframe_anomalies = dlib.handle_anomalies(dataframe_London_UTD19, dataframe_anomalies)"
   ]
  },
  {
   "cell_type": "code",
   "execution_count": 98,
   "metadata": {},
   "outputs": [
    {
     "name": "stdout",
     "output_type": "stream",
     "text": [
      "Minimum traffic: 0.0\n",
      "Mean traffic: 79.42519487178676\n",
      "Maximum traffic: 821.4999735\n"
     ]
    }
   ],
   "source": [
    "min_traffic = dataframe_London_UTD19['traffic'].min()\n",
    "mean_traffic = dataframe_London_UTD19['traffic'].mean()\n",
    "max_traffic = dataframe_London_UTD19['traffic'].max()\n",
    "print(f\"Minimum traffic: {min_traffic}\")\n",
    "print(f\"Mean traffic: {mean_traffic}\")\n",
    "print(f\"Maximum traffic: {max_traffic}\")"
   ]
  },
  {
   "cell_type": "code",
   "execution_count": 99,
   "metadata": {},
   "outputs": [],
   "source": [
    "dataframe_London_UTD19 = dlib.combine_datapoints(dataframe_London_UTD19, ratio=3600)"
   ]
  },
  {
   "cell_type": "code",
   "execution_count": 100,
   "metadata": {},
   "outputs": [
    {
     "name": "stdout",
     "output_type": "stream",
     "text": [
      "Minimum traffic: 0.0\n",
      "Mean traffic: 78.56649290647242\n",
      "Maximum traffic: 660.48\n"
     ]
    }
   ],
   "source": [
    "min_traffic = dataframe_London_UTD19['traffic'].min()\n",
    "mean_traffic = dataframe_London_UTD19['traffic'].mean()\n",
    "max_traffic = dataframe_London_UTD19['traffic'].max()\n",
    "print(f\"Minimum traffic: {min_traffic}\")\n",
    "print(f\"Mean traffic: {mean_traffic}\")\n",
    "print(f\"Maximum traffic: {max_traffic}\")"
   ]
  },
  {
   "cell_type": "code",
   "execution_count": 101,
   "metadata": {},
   "outputs": [
    {
     "data": {
      "text/plain": [
       "interval    2342\n",
       "day         2342\n",
       "detid       2342\n",
       "weekday     2342\n",
       "flow        2342\n",
       "occ         2342\n",
       "traffic     2342\n",
       "dtype: int64"
      ]
     },
     "execution_count": 101,
     "metadata": {},
     "output_type": "execute_result"
    }
   ],
   "source": [
    "zero_values = dataframe_London_UTD19[dataframe_London_UTD19['traffic'] <= 1]\n",
    "zero_values.count()"
   ]
  },
  {
   "cell_type": "code",
   "execution_count": 102,
   "metadata": {},
   "outputs": [],
   "source": [
    "dataframe_London_UTD19 = dlib.normalize_traffic(dataframe_London_UTD19)"
   ]
  },
  {
   "cell_type": "code",
   "execution_count": 103,
   "metadata": {},
   "outputs": [
    {
     "name": "stdout",
     "output_type": "stream",
     "text": [
      "Minimum traffic: 0.0\n",
      "Mean traffic: 11.776409274680189\n",
      "Maximum traffic: 99.0\n"
     ]
    }
   ],
   "source": [
    "min_traffic = dataframe_London_UTD19['traffic'].min()\n",
    "mean_traffic = dataframe_London_UTD19['traffic'].mean()\n",
    "max_traffic = dataframe_London_UTD19['traffic'].max()\n",
    "print(f\"Minimum traffic: {min_traffic}\")\n",
    "print(f\"Mean traffic: {mean_traffic}\")\n",
    "print(f\"Maximum traffic: {max_traffic}\")"
   ]
  },
  {
   "cell_type": "code",
   "execution_count": 104,
   "metadata": {},
   "outputs": [],
   "source": [
    "dataframe_London_UTD19 = dlib.merge_dataframes_on_detid(dataframe_London_UTD19, dataframe_detectors)"
   ]
  },
  {
   "cell_type": "code",
   "execution_count": 105,
   "metadata": {},
   "outputs": [
    {
     "data": {
      "text/plain": [
       "interval    8256\n",
       "day         8256\n",
       "detid       8256\n",
       "weekday     8256\n",
       "flow        8256\n",
       "occ         8256\n",
       "traffic     8256\n",
       "lanes       8256\n",
       "long        8256\n",
       "lat         8256\n",
       "pos         8256\n",
       "length      8256\n",
       "dtype: int64"
      ]
     },
     "execution_count": 105,
     "metadata": {},
     "output_type": "execute_result"
    }
   ],
   "source": [
    "zero_values = dataframe_London_UTD19[dataframe_London_UTD19['traffic'] <= 1]\n",
    "zero_values.count()"
   ]
  },
  {
   "cell_type": "code",
   "execution_count": 106,
   "metadata": {},
   "outputs": [
    {
     "data": {
      "text/plain": [
       "interval    8256\n",
       "day         8256\n",
       "detid       8256\n",
       "weekday     8256\n",
       "traffic     8256\n",
       "long        8256\n",
       "lat         8256\n",
       "pos         8256\n",
       "length      8256\n",
       "dtype: int64"
      ]
     },
     "execution_count": 106,
     "metadata": {},
     "output_type": "execute_result"
    }
   ],
   "source": [
    "dataframe_London_UTD19 = dlib.final_process_dataframe(dataframe_London_UTD19)\n",
    "zero_values = dataframe_London_UTD19[dataframe_London_UTD19['traffic'] == 0]\n",
    "zero_values.count()"
   ]
  },
  {
   "cell_type": "code",
   "execution_count": 107,
   "metadata": {},
   "outputs": [
    {
     "name": "stdout",
     "output_type": "stream",
     "text": [
      "interval    0\n",
      "day         0\n",
      "detid       0\n",
      "weekday     0\n",
      "traffic     0\n",
      "long        0\n",
      "lat         0\n",
      "pos         0\n",
      "length      0\n",
      "dtype: int64\n"
     ]
    }
   ],
   "source": [
    "na_counts = dataframe_London_UTD19.isna().sum()\n",
    "print(na_counts)"
   ]
  },
  {
   "cell_type": "code",
   "execution_count": null,
   "metadata": {},
   "outputs": [],
   "source": [
    "path_dataset = r\"C:\\Users\\samue\\OneDrive\\AIML\\HS2024\\Data Sicence Projekt\\Data\\London_UTD19_Modified.csv\"\n",
    "dataframe_London_UTD19_Modified = dlib.load_data(path=path_dataset, nrows=None)"
   ]
  },
  {
   "cell_type": "code",
   "execution_count": null,
   "metadata": {},
   "outputs": [],
   "source": [
    "min_traffic = dataframe_London_UTD19_Modified['traffic'].min()\n",
    "mean_traffic = dataframe_London_UTD19_Modified['traffic'].mean()\n",
    "max_traffic = dataframe_London_UTD19_Modified['traffic'].max()\n",
    "print(f\"Minimum traffic: {min_traffic}\")\n",
    "print(f\"Mean traffic: {mean_traffic}\")\n",
    "print(f\"Maximum traffic: {max_traffic}\")"
   ]
  }
 ],
 "metadata": {
  "kernelspec": {
   "display_name": "Python 3",
   "language": "python",
   "name": "python3"
  },
  "language_info": {
   "codemirror_mode": {
    "name": "ipython",
    "version": 3
   },
   "file_extension": ".py",
   "mimetype": "text/x-python",
   "name": "python",
   "nbconvert_exporter": "python",
   "pygments_lexer": "ipython3",
   "version": "3.10.11"
  }
 },
 "nbformat": 4,
 "nbformat_minor": 2
}
