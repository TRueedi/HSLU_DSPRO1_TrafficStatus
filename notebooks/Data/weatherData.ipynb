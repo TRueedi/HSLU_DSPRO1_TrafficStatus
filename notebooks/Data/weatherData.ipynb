{
 "cells": [
  {
   "cell_type": "markdown",
   "metadata": {},
   "source": [
    "Get weather data for the Dataset"
   ]
  },
  {
   "cell_type": "code",
   "execution_count": 1,
   "metadata": {},
   "outputs": [],
   "source": [
    "import pandas as pd \n",
    "import numpy as np\n",
    "import matplotlib.pyplot as plt\n",
    "import sys\n",
    "import os"
   ]
  },
  {
   "cell_type": "code",
   "execution_count": 2,
   "metadata": {},
   "outputs": [],
   "source": [
    "# Add the directory containing the module to the system path\n",
    "module_path = os.path.abspath(os.path.join('C:\\\\Users\\\\samue\\\\OneDrive\\\\AIML\\\\HS2024\\\\Data Sicence Projekt\\\\HSLU_DSPRO1_TrafficStatus\\\\data'))\n",
    "if module_path not in sys.path:\n",
    "    sys.path.append(module_path)\n",
    "\n",
    "# Import the module\n",
    "import DataEngineeringLibrary as dlib"
   ]
  },
  {
   "cell_type": "code",
   "execution_count": 6,
   "metadata": {},
   "outputs": [
    {
     "data": {
      "text/html": [
       "<div>\n",
       "<style scoped>\n",
       "    .dataframe tbody tr th:only-of-type {\n",
       "        vertical-align: middle;\n",
       "    }\n",
       "\n",
       "    .dataframe tbody tr th {\n",
       "        vertical-align: top;\n",
       "    }\n",
       "\n",
       "    .dataframe thead th {\n",
       "        text-align: right;\n",
       "    }\n",
       "</style>\n",
       "<table border=\"1\" class=\"dataframe\">\n",
       "  <thead>\n",
       "    <tr style=\"text-align: right;\">\n",
       "      <th></th>\n",
       "      <th>day</th>\n",
       "      <th>interval</th>\n",
       "      <th>detid</th>\n",
       "      <th>flow</th>\n",
       "      <th>occ</th>\n",
       "      <th>error</th>\n",
       "      <th>city</th>\n",
       "      <th>speed</th>\n",
       "    </tr>\n",
       "  </thead>\n",
       "  <tbody>\n",
       "    <tr>\n",
       "      <th>0</th>\n",
       "      <td>2015-05-16</td>\n",
       "      <td>0</td>\n",
       "      <td>EAST_N04/161x1</td>\n",
       "      <td>144.0</td>\n",
       "      <td>0.028333</td>\n",
       "      <td>0.0</td>\n",
       "      <td>london</td>\n",
       "      <td>NaN</td>\n",
       "    </tr>\n",
       "    <tr>\n",
       "      <th>1</th>\n",
       "      <td>2015-05-16</td>\n",
       "      <td>300</td>\n",
       "      <td>EAST_N04/161x1</td>\n",
       "      <td>204.0</td>\n",
       "      <td>0.040000</td>\n",
       "      <td>0.0</td>\n",
       "      <td>london</td>\n",
       "      <td>NaN</td>\n",
       "    </tr>\n",
       "    <tr>\n",
       "      <th>2</th>\n",
       "      <td>2015-05-16</td>\n",
       "      <td>600</td>\n",
       "      <td>EAST_N04/161x1</td>\n",
       "      <td>216.0</td>\n",
       "      <td>0.039167</td>\n",
       "      <td>0.0</td>\n",
       "      <td>london</td>\n",
       "      <td>NaN</td>\n",
       "    </tr>\n",
       "    <tr>\n",
       "      <th>3</th>\n",
       "      <td>2015-05-16</td>\n",
       "      <td>900</td>\n",
       "      <td>EAST_N04/161x1</td>\n",
       "      <td>168.0</td>\n",
       "      <td>0.029167</td>\n",
       "      <td>0.0</td>\n",
       "      <td>london</td>\n",
       "      <td>NaN</td>\n",
       "    </tr>\n",
       "    <tr>\n",
       "      <th>4</th>\n",
       "      <td>2015-05-16</td>\n",
       "      <td>1200</td>\n",
       "      <td>EAST_N04/161x1</td>\n",
       "      <td>144.0</td>\n",
       "      <td>0.024167</td>\n",
       "      <td>0.0</td>\n",
       "      <td>london</td>\n",
       "      <td>NaN</td>\n",
       "    </tr>\n",
       "  </tbody>\n",
       "</table>\n",
       "</div>"
      ],
      "text/plain": [
       "          day  interval           detid   flow       occ  error    city  speed\n",
       "0  2015-05-16         0  EAST_N04/161x1  144.0  0.028333    0.0  london    NaN\n",
       "1  2015-05-16       300  EAST_N04/161x1  204.0  0.040000    0.0  london    NaN\n",
       "2  2015-05-16       600  EAST_N04/161x1  216.0  0.039167    0.0  london    NaN\n",
       "3  2015-05-16       900  EAST_N04/161x1  168.0  0.029167    0.0  london    NaN\n",
       "4  2015-05-16      1200  EAST_N04/161x1  144.0  0.024167    0.0  london    NaN"
      ]
     },
     "execution_count": 6,
     "metadata": {},
     "output_type": "execute_result"
    }
   ],
   "source": [
    "dataLondonUTD19 = dlib.loadData(path=r\"C:\\Users\\samue\\OneDrive\\AIML\\HS2024\\Data Sicence Projekt\\Data\\London_UTD19.csv\", nrows=1000000)\n",
    "dataLondonUTD19.head()"
   ]
  },
  {
   "cell_type": "code",
   "execution_count": 9,
   "metadata": {},
   "outputs": [
    {
     "data": {
      "text/plain": [
       "array(['2015-05-16', '2015-05-15', '2015-05-17', '2015-05-18',\n",
       "       '2015-05-19', '2015-05-20', '2015-05-21', '2015-05-22',\n",
       "       '2015-05-23', '2015-10-01', '2015-09-25', '2015-09-26',\n",
       "       '2015-09-27', '2015-09-28', '2015-09-29', '2015-09-30',\n",
       "       '2016-05-16', '2016-05-17', '2016-05-18', '2016-05-19',\n",
       "       '2016-05-20', '2016-05-21', '2016-05-22'], dtype=object)"
      ]
     },
     "execution_count": 9,
     "metadata": {},
     "output_type": "execute_result"
    }
   ],
   "source": [
    "unique_days = dataLondonUTD19['day'].unique()\n",
    "unique_days"
   ]
  },
  {
   "cell_type": "code",
   "execution_count": 11,
   "metadata": {},
   "outputs": [
    {
     "data": {
      "text/plain": [
       "DatetimeIndex(['2015-05-16', '2015-05-15', '2015-05-17', '2015-05-18',\n",
       "               '2015-05-19', '2015-05-20', '2015-05-21', '2015-05-22',\n",
       "               '2015-05-23', '2015-10-01', '2015-09-25', '2015-09-26',\n",
       "               '2015-09-27', '2015-09-28', '2015-09-29', '2015-09-30',\n",
       "               '2016-05-16', '2016-05-17', '2016-05-18', '2016-05-19',\n",
       "               '2016-05-20', '2016-05-21', '2016-05-22'],\n",
       "              dtype='datetime64[ns]', freq=None)"
      ]
     },
     "execution_count": 11,
     "metadata": {},
     "output_type": "execute_result"
    }
   ],
   "source": [
    "unique_days = pd.to_datetime(unique_days)\n",
    "unique_days"
   ]
  },
  {
   "cell_type": "code",
   "execution_count": null,
   "metadata": {},
   "outputs": [],
   "source": []
  }
 ],
 "metadata": {
  "kernelspec": {
   "display_name": "Python 3",
   "language": "python",
   "name": "python3"
  },
  "language_info": {
   "codemirror_mode": {
    "name": "ipython",
    "version": 3
   },
   "file_extension": ".py",
   "mimetype": "text/x-python",
   "name": "python",
   "nbconvert_exporter": "python",
   "pygments_lexer": "ipython3",
   "version": "3.10.11"
  }
 },
 "nbformat": 4,
 "nbformat_minor": 2
}
