{
 "cells": [
  {
   "cell_type": "code",
   "execution_count": 1,
   "metadata": {},
   "outputs": [],
   "source": [
    "import pandas as pd "
   ]
  },
  {
   "cell_type": "code",
   "execution_count": 2,
   "metadata": {},
   "outputs": [],
   "source": [
    "def loadData(path, nrows=None):\n",
    "    return pd.read_csv(path, nrows=nrows)"
   ]
  },
  {
   "cell_type": "code",
   "execution_count": null,
   "metadata": {},
   "outputs": [],
   "source": [
    "dataUTD19 = loadData('UTD19.csv')\n",
    "dataLinks = loadData('links.csv')\n",
    "dataDetectors = loadData('detectors_public.csv')"
   ]
  },
  {
   "cell_type": "code",
   "execution_count": null,
   "metadata": {},
   "outputs": [],
   "source": [
    "dataframeUTD19 = pd.DataFrame(dataUTD19)\n",
    "dataframeLinks = pd.DataFrame(dataLinks)\n",
    "dataframeDetectors = pd.DataFrame(dataDetectors)"
   ]
  },
  {
   "cell_type": "code",
   "execution_count": null,
   "metadata": {},
   "outputs": [],
   "source": [
    "dataframeUTD19 = dataframeUTD19[dataframeUTD19[\"citycode\"] == \"london\"]\n",
    "dataframeLinks = dataframeLinks[dataframeLinks[\"citycode\"] == \"london\"]\n",
    "dataframeDetectors = dataframeDetectors[dataframeDetectors[\"citycode\"] == \"london\"]"
   ]
  },
  {
   "cell_type": "code",
   "execution_count": null,
   "metadata": {},
   "outputs": [],
   "source": [
    "dataframeUTD19.to_csv('London_UTD19.csv', index=False)\n",
    "dataframeLinks.to_csv('London_Links.csv', index=False)\n",
    "dataframeDetectors.to_csv('London_Detectors.csv', index=False)"
   ]
  }
 ],
 "metadata": {
  "kernelspec": {
   "display_name": "Python 3",
   "language": "python",
   "name": "python3"
  },
  "language_info": {
   "codemirror_mode": {
    "name": "ipython",
    "version": 3
   },
   "file_extension": ".py",
   "mimetype": "text/x-python",
   "name": "python",
   "nbconvert_exporter": "python",
   "pygments_lexer": "ipython3",
   "version": "3.10.11"
  }
 },
 "nbformat": 4,
 "nbformat_minor": 2
}
