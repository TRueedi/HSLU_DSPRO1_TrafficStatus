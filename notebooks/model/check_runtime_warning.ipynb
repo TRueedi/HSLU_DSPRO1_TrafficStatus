{
 "cells": [
  {
   "cell_type": "code",
   "execution_count": 1,
   "metadata": {},
   "outputs": [],
   "source": [
    "import pandas as pd\n",
    "import rfr_model as rfr"
   ]
  },
  {
   "cell_type": "code",
   "execution_count": 19,
   "metadata": {},
   "outputs": [
    {
     "data": {
      "text/html": [
       "<div>\n",
       "<style scoped>\n",
       "    .dataframe tbody tr th:only-of-type {\n",
       "        vertical-align: middle;\n",
       "    }\n",
       "\n",
       "    .dataframe tbody tr th {\n",
       "        vertical-align: top;\n",
       "    }\n",
       "\n",
       "    .dataframe thead th {\n",
       "        text-align: right;\n",
       "    }\n",
       "</style>\n",
       "<table border=\"1\" class=\"dataframe\">\n",
       "  <thead>\n",
       "    <tr style=\"text-align: right;\">\n",
       "      <th></th>\n",
       "      <th>interval</th>\n",
       "      <th>detid</th>\n",
       "      <th>weekday</th>\n",
       "      <th>traffic</th>\n",
       "    </tr>\n",
       "  </thead>\n",
       "  <tbody>\n",
       "    <tr>\n",
       "      <th>0</th>\n",
       "      <td>3600.0</td>\n",
       "      <td>CNTR_N00/005g1</td>\n",
       "      <td>Friday</td>\n",
       "      <td>5.0</td>\n",
       "    </tr>\n",
       "    <tr>\n",
       "      <th>1</th>\n",
       "      <td>7200.0</td>\n",
       "      <td>CNTR_N00/005g1</td>\n",
       "      <td>Friday</td>\n",
       "      <td>3.0</td>\n",
       "    </tr>\n",
       "    <tr>\n",
       "      <th>2</th>\n",
       "      <td>10800.0</td>\n",
       "      <td>CNTR_N00/005g1</td>\n",
       "      <td>Friday</td>\n",
       "      <td>1.0</td>\n",
       "    </tr>\n",
       "    <tr>\n",
       "      <th>3</th>\n",
       "      <td>14400.0</td>\n",
       "      <td>CNTR_N00/005g1</td>\n",
       "      <td>Friday</td>\n",
       "      <td>1.0</td>\n",
       "    </tr>\n",
       "    <tr>\n",
       "      <th>4</th>\n",
       "      <td>18000.0</td>\n",
       "      <td>CNTR_N00/005g1</td>\n",
       "      <td>Friday</td>\n",
       "      <td>1.0</td>\n",
       "    </tr>\n",
       "    <tr>\n",
       "      <th>...</th>\n",
       "      <td>...</td>\n",
       "      <td>...</td>\n",
       "      <td>...</td>\n",
       "      <td>...</td>\n",
       "    </tr>\n",
       "    <tr>\n",
       "      <th>1664145</th>\n",
       "      <td>72000.0</td>\n",
       "      <td>SOUT_N10/313b1</td>\n",
       "      <td>Sunday</td>\n",
       "      <td>2.0</td>\n",
       "    </tr>\n",
       "    <tr>\n",
       "      <th>1664146</th>\n",
       "      <td>75600.0</td>\n",
       "      <td>SOUT_N10/313b1</td>\n",
       "      <td>Sunday</td>\n",
       "      <td>0.0</td>\n",
       "    </tr>\n",
       "    <tr>\n",
       "      <th>1664147</th>\n",
       "      <td>79200.0</td>\n",
       "      <td>SOUT_N10/313b1</td>\n",
       "      <td>Sunday</td>\n",
       "      <td>0.0</td>\n",
       "    </tr>\n",
       "    <tr>\n",
       "      <th>1664148</th>\n",
       "      <td>82800.0</td>\n",
       "      <td>SOUT_N10/313b1</td>\n",
       "      <td>Sunday</td>\n",
       "      <td>0.0</td>\n",
       "    </tr>\n",
       "    <tr>\n",
       "      <th>1664149</th>\n",
       "      <td>86400.0</td>\n",
       "      <td>SOUT_N10/313b1</td>\n",
       "      <td>Sunday</td>\n",
       "      <td>0.0</td>\n",
       "    </tr>\n",
       "  </tbody>\n",
       "</table>\n",
       "<p>1664150 rows × 4 columns</p>\n",
       "</div>"
      ],
      "text/plain": [
       "         interval           detid weekday  traffic\n",
       "0          3600.0  CNTR_N00/005g1  Friday      5.0\n",
       "1          7200.0  CNTR_N00/005g1  Friday      3.0\n",
       "2         10800.0  CNTR_N00/005g1  Friday      1.0\n",
       "3         14400.0  CNTR_N00/005g1  Friday      1.0\n",
       "4         18000.0  CNTR_N00/005g1  Friday      1.0\n",
       "...           ...             ...     ...      ...\n",
       "1664145   72000.0  SOUT_N10/313b1  Sunday      2.0\n",
       "1664146   75600.0  SOUT_N10/313b1  Sunday      0.0\n",
       "1664147   79200.0  SOUT_N10/313b1  Sunday      0.0\n",
       "1664148   82800.0  SOUT_N10/313b1  Sunday      0.0\n",
       "1664149   86400.0  SOUT_N10/313b1  Sunday      0.0\n",
       "\n",
       "[1664150 rows x 4 columns]"
      ]
     },
     "execution_count": 19,
     "metadata": {},
     "output_type": "execute_result"
    }
   ],
   "source": [
    "train_data = pd.read_csv('/Users/finneyer/Documents/HSLU/Semester 3/DSPRO1/Projektarbeit/Data/0.2/London_UTD19_train_Sniper_0.csv')\n",
    "train_data = train_data.drop(columns=['day', 'long', 'lat', 'pos', 'length'], axis=1)\n",
    "train_data"
   ]
  },
  {
   "cell_type": "code",
   "execution_count": 20,
   "metadata": {},
   "outputs": [],
   "source": [
    "weekday_mapping = {\n",
    "        'Monday': 0,\n",
    "        'Tuesday': 1,\n",
    "        'Wednesday': 2,\n",
    "        'Thursday': 3,\n",
    "        'Friday': 4,\n",
    "        'Saturday': 5,\n",
    "        'Sunday': 6\n",
    "    }\n",
    "train_data['weekday'] = train_data['weekday'].map(weekday_mapping)"
   ]
  },
  {
   "cell_type": "code",
   "execution_count": 21,
   "metadata": {},
   "outputs": [],
   "source": [
    "X_train = train_data.drop('detid', axis=1)\n",
    "X_train = train_data.drop('traffic', axis=1)\n",
    "y_train = train_data['traffic']"
   ]
  },
  {
   "cell_type": "code",
   "execution_count": 22,
   "metadata": {},
   "outputs": [
    {
     "name": "stdout",
     "output_type": "stream",
     "text": [
      "Checking for NaN values in X_train:\n",
      "interval    0\n",
      "detid       0\n",
      "weekday     0\n",
      "dtype: int64\n",
      "Checking for NaN values in y_train:\n",
      "0\n"
     ]
    }
   ],
   "source": [
    "print(\"Checking for NaN values in X_train:\")\n",
    "print(X_train.isna().sum())  # This will show any columns with NaN values\n",
    "print(\"Checking for NaN values in y_train:\")\n",
    "print(y_train.isna().sum())  # This will show if y_train has NaN values"
   ]
  },
  {
   "cell_type": "code",
   "execution_count": 23,
   "metadata": {},
   "outputs": [
    {
     "name": "stdout",
     "output_type": "stream",
     "text": [
      "Data types in X_train:\n",
      "interval    float64\n",
      "detid        object\n",
      "weekday       int64\n",
      "dtype: object\n"
     ]
    }
   ],
   "source": [
    "print(\"Data types in X_train:\")\n",
    "print(X_train.dtypes)  # Check if all columns are numeric\n",
    "\n"
   ]
  },
  {
   "cell_type": "code",
   "execution_count": 27,
   "metadata": {},
   "outputs": [],
   "source": [
    "test = train_data.drop('detid', axis=1)"
   ]
  },
  {
   "cell_type": "code",
   "execution_count": null,
   "metadata": {},
   "outputs": [],
   "source": []
  }
 ],
 "metadata": {
  "kernelspec": {
   "display_name": "base",
   "language": "python",
   "name": "python3"
  },
  "language_info": {
   "codemirror_mode": {
    "name": "ipython",
    "version": 3
   },
   "file_extension": ".py",
   "mimetype": "text/x-python",
   "name": "python",
   "nbconvert_exporter": "python",
   "pygments_lexer": "ipython3",
   "version": "3.11.5"
  }
 },
 "nbformat": 4,
 "nbformat_minor": 2
}
