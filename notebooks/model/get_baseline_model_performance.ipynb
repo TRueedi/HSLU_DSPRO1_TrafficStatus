{
 "cells": [
  {
   "cell_type": "markdown",
   "metadata": {},
   "source": [
    "## Analyze baseline model performance"
   ]
  },
  {
   "cell_type": "code",
   "execution_count": 1,
   "metadata": {},
   "outputs": [],
   "source": [
    "import pandas as pd\n",
    "import matplotlib.pyplot as plt\n",
    "import baseline_model as mb"
   ]
  },
  {
   "cell_type": "markdown",
   "metadata": {},
   "source": [
    "### Load train and test data"
   ]
  },
  {
   "cell_type": "code",
   "execution_count": 2,
   "metadata": {},
   "outputs": [],
   "source": [
    "train_data_path = '' # Insert train data path\n",
    "test_data_path = '' # Insert test data path"
   ]
  },
  {
   "cell_type": "code",
   "execution_count": 3,
   "metadata": {},
   "outputs": [],
   "source": [
    "# Load data from dataset 1\n",
    "train_data = pd.read_csv(train_data_path)\n",
    "train_data = train_data.drop(columns=['long', 'lat', 'pos', 'length','fclass'], axis = 1)\n",
    "test_data = pd.read_csv(test_data_path)\n",
    "test_data = test_data.drop(columns=['long', 'lat', 'pos', 'length','fclass'], axis = 1)"
   ]
  },
  {
   "cell_type": "code",
   "execution_count": 4,
   "metadata": {},
   "outputs": [
    {
     "data": {
      "text/html": [
       "<div>\n",
       "<style scoped>\n",
       "    .dataframe tbody tr th:only-of-type {\n",
       "        vertical-align: middle;\n",
       "    }\n",
       "\n",
       "    .dataframe tbody tr th {\n",
       "        vertical-align: top;\n",
       "    }\n",
       "\n",
       "    .dataframe thead th {\n",
       "        text-align: right;\n",
       "    }\n",
       "</style>\n",
       "<table border=\"1\" class=\"dataframe\">\n",
       "  <thead>\n",
       "    <tr style=\"text-align: right;\">\n",
       "      <th></th>\n",
       "      <th>interval</th>\n",
       "      <th>detid</th>\n",
       "      <th>weekday</th>\n",
       "      <th>traffic</th>\n",
       "    </tr>\n",
       "  </thead>\n",
       "  <tbody>\n",
       "    <tr>\n",
       "      <th>0</th>\n",
       "      <td>0.0</td>\n",
       "      <td>CNTR_N00/005g1</td>\n",
       "      <td>Friday</td>\n",
       "      <td>48</td>\n",
       "    </tr>\n",
       "    <tr>\n",
       "      <th>1</th>\n",
       "      <td>0.0</td>\n",
       "      <td>CNTR_N00/005g1</td>\n",
       "      <td>Saturday</td>\n",
       "      <td>48</td>\n",
       "    </tr>\n",
       "    <tr>\n",
       "      <th>2</th>\n",
       "      <td>0.0</td>\n",
       "      <td>CNTR_N00/005g1</td>\n",
       "      <td>Sunday</td>\n",
       "      <td>38</td>\n",
       "    </tr>\n",
       "    <tr>\n",
       "      <th>3</th>\n",
       "      <td>0.0</td>\n",
       "      <td>CNTR_N00/005g1</td>\n",
       "      <td>Monday</td>\n",
       "      <td>18</td>\n",
       "    </tr>\n",
       "    <tr>\n",
       "      <th>4</th>\n",
       "      <td>0.0</td>\n",
       "      <td>CNTR_N00/005g1</td>\n",
       "      <td>Tuesday</td>\n",
       "      <td>28</td>\n",
       "    </tr>\n",
       "    <tr>\n",
       "      <th>...</th>\n",
       "      <td>...</td>\n",
       "      <td>...</td>\n",
       "      <td>...</td>\n",
       "      <td>...</td>\n",
       "    </tr>\n",
       "    <tr>\n",
       "      <th>1611386</th>\n",
       "      <td>86400.0</td>\n",
       "      <td>SOUT_N10/313b1</td>\n",
       "      <td>Tuesday</td>\n",
       "      <td>6</td>\n",
       "    </tr>\n",
       "    <tr>\n",
       "      <th>1611387</th>\n",
       "      <td>86400.0</td>\n",
       "      <td>SOUT_N10/313b1</td>\n",
       "      <td>Wednesday</td>\n",
       "      <td>8</td>\n",
       "    </tr>\n",
       "    <tr>\n",
       "      <th>1611388</th>\n",
       "      <td>86400.0</td>\n",
       "      <td>SOUT_N10/313b1</td>\n",
       "      <td>Thursday</td>\n",
       "      <td>7</td>\n",
       "    </tr>\n",
       "    <tr>\n",
       "      <th>1611389</th>\n",
       "      <td>86400.0</td>\n",
       "      <td>SOUT_N10/313b1</td>\n",
       "      <td>Saturday</td>\n",
       "      <td>13</td>\n",
       "    </tr>\n",
       "    <tr>\n",
       "      <th>1611390</th>\n",
       "      <td>86400.0</td>\n",
       "      <td>SOUT_N10/313b1</td>\n",
       "      <td>Sunday</td>\n",
       "      <td>1</td>\n",
       "    </tr>\n",
       "  </tbody>\n",
       "</table>\n",
       "<p>1611391 rows × 4 columns</p>\n",
       "</div>"
      ],
      "text/plain": [
       "         interval           detid    weekday  traffic\n",
       "0             0.0  CNTR_N00/005g1     Friday       48\n",
       "1             0.0  CNTR_N00/005g1   Saturday       48\n",
       "2             0.0  CNTR_N00/005g1     Sunday       38\n",
       "3             0.0  CNTR_N00/005g1     Monday       18\n",
       "4             0.0  CNTR_N00/005g1    Tuesday       28\n",
       "...           ...             ...        ...      ...\n",
       "1611386   86400.0  SOUT_N10/313b1    Tuesday        6\n",
       "1611387   86400.0  SOUT_N10/313b1  Wednesday        8\n",
       "1611388   86400.0  SOUT_N10/313b1   Thursday        7\n",
       "1611389   86400.0  SOUT_N10/313b1   Saturday       13\n",
       "1611390   86400.0  SOUT_N10/313b1     Sunday        1\n",
       "\n",
       "[1611391 rows x 4 columns]"
      ]
     },
     "execution_count": 4,
     "metadata": {},
     "output_type": "execute_result"
    }
   ],
   "source": [
    "train_data"
   ]
  },
  {
   "cell_type": "markdown",
   "metadata": {},
   "source": [
    "### Train the baseline models"
   ]
  },
  {
   "cell_type": "code",
   "execution_count": 5,
   "metadata": {},
   "outputs": [],
   "source": [
    "models_path = '' # Insert models path"
   ]
  },
  {
   "cell_type": "code",
   "execution_count": 6,
   "metadata": {},
   "outputs": [],
   "source": [
    "mb.train_random_baseline_models(train_data, models_path)"
   ]
  },
  {
   "cell_type": "markdown",
   "metadata": {},
   "source": [
    "### Get predictions from the trained models"
   ]
  },
  {
   "cell_type": "code",
   "execution_count": 7,
   "metadata": {},
   "outputs": [
    {
     "data": {
      "text/html": [
       "<div>\n",
       "<style scoped>\n",
       "    .dataframe tbody tr th:only-of-type {\n",
       "        vertical-align: middle;\n",
       "    }\n",
       "\n",
       "    .dataframe tbody tr th {\n",
       "        vertical-align: top;\n",
       "    }\n",
       "\n",
       "    .dataframe thead th {\n",
       "        text-align: right;\n",
       "    }\n",
       "</style>\n",
       "<table border=\"1\" class=\"dataframe\">\n",
       "  <thead>\n",
       "    <tr style=\"text-align: right;\">\n",
       "      <th></th>\n",
       "      <th>interval</th>\n",
       "      <th>traffic</th>\n",
       "      <th>detid</th>\n",
       "    </tr>\n",
       "  </thead>\n",
       "  <tbody>\n",
       "    <tr>\n",
       "      <th>0</th>\n",
       "      <td>0</td>\n",
       "      <td>28</td>\n",
       "      <td>EAST_N05/095c1</td>\n",
       "    </tr>\n",
       "    <tr>\n",
       "      <th>12</th>\n",
       "      <td>3600</td>\n",
       "      <td>23</td>\n",
       "      <td>EAST_N05/095c1</td>\n",
       "    </tr>\n",
       "    <tr>\n",
       "      <th>24</th>\n",
       "      <td>7200</td>\n",
       "      <td>20</td>\n",
       "      <td>EAST_N05/095c1</td>\n",
       "    </tr>\n",
       "    <tr>\n",
       "      <th>36</th>\n",
       "      <td>10800</td>\n",
       "      <td>10</td>\n",
       "      <td>EAST_N05/095c1</td>\n",
       "    </tr>\n",
       "    <tr>\n",
       "      <th>48</th>\n",
       "      <td>14400</td>\n",
       "      <td>20</td>\n",
       "      <td>EAST_N05/095c1</td>\n",
       "    </tr>\n",
       "    <tr>\n",
       "      <th>...</th>\n",
       "      <td>...</td>\n",
       "      <td>...</td>\n",
       "      <td>...</td>\n",
       "    </tr>\n",
       "    <tr>\n",
       "      <th>228</th>\n",
       "      <td>68400</td>\n",
       "      <td>48</td>\n",
       "      <td>CNTR_N01/353j1</td>\n",
       "    </tr>\n",
       "    <tr>\n",
       "      <th>240</th>\n",
       "      <td>72000</td>\n",
       "      <td>92</td>\n",
       "      <td>CNTR_N01/353j1</td>\n",
       "    </tr>\n",
       "    <tr>\n",
       "      <th>252</th>\n",
       "      <td>75600</td>\n",
       "      <td>76</td>\n",
       "      <td>CNTR_N01/353j1</td>\n",
       "    </tr>\n",
       "    <tr>\n",
       "      <th>264</th>\n",
       "      <td>79200</td>\n",
       "      <td>53</td>\n",
       "      <td>CNTR_N01/353j1</td>\n",
       "    </tr>\n",
       "    <tr>\n",
       "      <th>276</th>\n",
       "      <td>82800</td>\n",
       "      <td>46</td>\n",
       "      <td>CNTR_N01/353j1</td>\n",
       "    </tr>\n",
       "  </tbody>\n",
       "</table>\n",
       "<p>86040 rows × 3 columns</p>\n",
       "</div>"
      ],
      "text/plain": [
       "     interval  traffic           detid\n",
       "0           0       28  EAST_N05/095c1\n",
       "12       3600       23  EAST_N05/095c1\n",
       "24       7200       20  EAST_N05/095c1\n",
       "36      10800       10  EAST_N05/095c1\n",
       "48      14400       20  EAST_N05/095c1\n",
       "..        ...      ...             ...\n",
       "228     68400       48  CNTR_N01/353j1\n",
       "240     72000       92  CNTR_N01/353j1\n",
       "252     75600       76  CNTR_N01/353j1\n",
       "264     79200       53  CNTR_N01/353j1\n",
       "276     82800       46  CNTR_N01/353j1\n",
       "\n",
       "[86040 rows x 3 columns]"
      ]
     },
     "execution_count": 7,
     "metadata": {},
     "output_type": "execute_result"
    }
   ],
   "source": [
    "predictions = mb.get_random_baseline_prediction(models_path, 0)\n",
    "predictions"
   ]
  },
  {
   "cell_type": "markdown",
   "metadata": {},
   "source": [
    "### Evaluate the performance of the baseline models"
   ]
  },
  {
   "cell_type": "code",
   "execution_count": 8,
   "metadata": {},
   "outputs": [
    {
     "data": {
      "text/html": [
       "<div>\n",
       "<style scoped>\n",
       "    .dataframe tbody tr th:only-of-type {\n",
       "        vertical-align: middle;\n",
       "    }\n",
       "\n",
       "    .dataframe tbody tr th {\n",
       "        vertical-align: top;\n",
       "    }\n",
       "\n",
       "    .dataframe thead th {\n",
       "        text-align: right;\n",
       "    }\n",
       "</style>\n",
       "<table border=\"1\" class=\"dataframe\">\n",
       "  <thead>\n",
       "    <tr style=\"text-align: right;\">\n",
       "      <th></th>\n",
       "      <th>Average MAE</th>\n",
       "      <th>Average MSE</th>\n",
       "      <th>Average R2</th>\n",
       "    </tr>\n",
       "  </thead>\n",
       "  <tbody>\n",
       "    <tr>\n",
       "      <th>0</th>\n",
       "      <td>17.630936</td>\n",
       "      <td>628.380453</td>\n",
       "      <td>-0.815373</td>\n",
       "    </tr>\n",
       "  </tbody>\n",
       "</table>\n",
       "</div>"
      ],
      "text/plain": [
       "   Average MAE  Average MSE  Average R2\n",
       "0    17.630936   628.380453   -0.815373"
      ]
     },
     "execution_count": 8,
     "metadata": {},
     "output_type": "execute_result"
    }
   ],
   "source": [
    "evaluation = mb.evaluate_random_baseline_models(test_data, models_path)\n",
    "evaluation"
   ]
  },
  {
   "cell_type": "markdown",
   "metadata": {},
   "source": [
    "### Compare test data and predictions visually"
   ]
  },
  {
   "cell_type": "code",
   "execution_count": 10,
   "metadata": {},
   "outputs": [],
   "source": [
    "one_sensor_data = predictions[predictions['detid'] == 'EAST_N05/095c1'] \n",
    "X_pred = one_sensor_data.interval\n",
    "y_pred = one_sensor_data.traffic"
   ]
  },
  {
   "cell_type": "code",
   "execution_count": 11,
   "metadata": {},
   "outputs": [],
   "source": [
    "train_data_sensor = train_data[train_data['detid'] == 'EAST_N05/095c1']\n",
    "X_train = train_data_sensor.interval\n",
    "y_train = train_data_sensor.traffic"
   ]
  },
  {
   "cell_type": "code",
   "execution_count": 12,
   "metadata": {},
   "outputs": [],
   "source": [
    "test_data_sensor = test_data[test_data['detid'] == 'EAST_N05/095c1']\n",
    "X_test = test_data_sensor.interval\n",
    "y_test = test_data_sensor.traffic"
   ]
  },
  {
   "cell_type": "code",
   "execution_count": 13,
   "metadata": {},
   "outputs": [
    {
     "data": {
      "text/plain": [
       "<matplotlib.legend.Legend at 0x1774f6f90>"
      ]
     },
     "execution_count": 13,
     "metadata": {},
     "output_type": "execute_result"
    },
    {
     "data": {
      "image/png": "[encoded data removed]",
      "text/plain": [
       "<Figure size 640x480 with 1 Axes>"
      ]
     },
     "metadata": {},
     "output_type": "display_data"
    }
   ],
   "source": [
    "plt.scatter(X_test, y_test, color=\"blue\", alpha=0.5, label=\"Test Data\")    \n",
    "plt.scatter(X_pred, y_pred, color=\"red\", alpha=0.5, label=\"Predicted Data\") \n",
    "plt.legend() "
   ]
  },
  {
   "cell_type": "code",
   "execution_count": 15,
   "metadata": {},
   "outputs": [
    {
     "data": {
      "text/plain": [
       "<matplotlib.lines.Line2D at 0x1783b8190>"
      ]
     },
     "execution_count": 15,
     "metadata": {},
     "output_type": "execute_result"
    },
    {
     "data": {
      "image/png": "[encoded data removed]",
      "text/plain": [
       "<Figure size 640x480 with 1 Axes>"
      ]
     },
     "metadata": {},
     "output_type": "display_data"
    }
   ],
   "source": [
    "train_show_sensor = train_data[train_data.detid == 'EAST_N04/097c1']\n",
    "x_show = train_show_sensor.interval\n",
    "y_show = train_show_sensor.traffic\n",
    "Q1 = y_show.quantile(0.25)\n",
    "Q3 = y_show.quantile(0.75)\n",
    "\n",
    "plt.scatter(x_show, y_show, color=\"blue\", alpha=0.5, label=\"Test Data\")\n",
    "plt.axhline(y=Q1, color='red', linestyle='--')    \n",
    "plt.axhline(y=Q3, color='red', linestyle='--')\n",
    " "
   ]
  },
  {
   "cell_type": "code",
   "execution_count": 16,
   "metadata": {},
   "outputs": [
    {
     "data": {
      "text/plain": [
       "np.float64(29.39517162501218)"
      ]
     },
     "execution_count": 16,
     "metadata": {},
     "output_type": "execute_result"
    }
   ],
   "source": [
    "train_data.traffic.mean()"
   ]
  },
  {
   "cell_type": "code",
   "execution_count": 17,
   "metadata": {},
   "outputs": [
    {
     "name": "stdout",
     "output_type": "stream",
     "text": [
      "6.0\n",
      "39.0\n"
     ]
    }
   ],
   "source": [
    "Q1_all_sensors = train_data.traffic.quantile(0.25)\n",
    "Q3_all_sensors = train_data.traffic.quantile(0.72)\n",
    "print(Q1_all_sensors)\n",
    "print(Q3_all_sensors)\n"
   ]
  }
 ],
 "metadata": {
  "kernelspec": {
   "display_name": "DSPRO",
   "language": "python",
   "name": "python3"
  },
  "language_info": {
   "codemirror_mode": {
    "name": "ipython",
    "version": 3
   },
   "file_extension": ".py",
   "mimetype": "text/x-python",
   "name": "python",
   "nbconvert_exporter": "python",
   "pygments_lexer": "ipython3",
   "version": "3.13.0"
  }
 },
 "nbformat": 4,
 "nbformat_minor": 2
}
