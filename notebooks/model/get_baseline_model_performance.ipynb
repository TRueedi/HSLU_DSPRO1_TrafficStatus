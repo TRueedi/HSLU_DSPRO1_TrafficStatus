{
 "cells": [
  {
   "cell_type": "code",
   "execution_count": 1,
   "metadata": {},
   "outputs": [],
   "source": [
    "import pandas as pd\n",
    "import baseline_model as mb"
   ]
  },
  {
   "cell_type": "code",
   "execution_count": 2,
   "metadata": {},
   "outputs": [],
   "source": [
    "train_data = pd.read_csv('/Users/finneyer/Documents/HSLU/Semester 3/DSPRO1/Projektarbeit/Data/0.2/London_UTD19_train_Sniper_0.csv')\n",
    "test_data = pd.read_csv('/Users/finneyer/Documents/HSLU/Semester 3/DSPRO1/Projektarbeit/Data/0.2/London_UTD19_test_Sniper_0.csv')"
   ]
  },
  {
   "cell_type": "code",
   "execution_count": 3,
   "metadata": {},
   "outputs": [],
   "source": [
    "mb.train_random_baseline_models(train_data, '/Users/finneyer/Documents/HSLU/Semester 3/DSPRO1/Projektarbeit/models/baseline_2')"
   ]
  },
  {
   "cell_type": "code",
   "execution_count": 3,
   "metadata": {},
   "outputs": [],
   "source": [
    "models_path = '/Users/finneyer/Documents/HSLU/Semester 3/DSPRO1/Projektarbeit/models/baseline_2'"
   ]
  },
  {
   "cell_type": "code",
   "execution_count": 4,
   "metadata": {},
   "outputs": [
    {
     "data": {
      "text/html": [
       "<div>\n",
       "<style scoped>\n",
       "    .dataframe tbody tr th:only-of-type {\n",
       "        vertical-align: middle;\n",
       "    }\n",
       "\n",
       "    .dataframe tbody tr th {\n",
       "        vertical-align: top;\n",
       "    }\n",
       "\n",
       "    .dataframe thead th {\n",
       "        text-align: right;\n",
       "    }\n",
       "</style>\n",
       "<table border=\"1\" class=\"dataframe\">\n",
       "  <thead>\n",
       "    <tr style=\"text-align: right;\">\n",
       "      <th></th>\n",
       "      <th>interval</th>\n",
       "      <th>traffic</th>\n",
       "      <th>detid</th>\n",
       "    </tr>\n",
       "  </thead>\n",
       "  <tbody>\n",
       "    <tr>\n",
       "      <th>0</th>\n",
       "      <td>0</td>\n",
       "      <td>3</td>\n",
       "      <td>EAST_N05/095c1</td>\n",
       "    </tr>\n",
       "    <tr>\n",
       "      <th>12</th>\n",
       "      <td>3600</td>\n",
       "      <td>1</td>\n",
       "      <td>EAST_N05/095c1</td>\n",
       "    </tr>\n",
       "    <tr>\n",
       "      <th>24</th>\n",
       "      <td>7200</td>\n",
       "      <td>2</td>\n",
       "      <td>EAST_N05/095c1</td>\n",
       "    </tr>\n",
       "    <tr>\n",
       "      <th>36</th>\n",
       "      <td>10800</td>\n",
       "      <td>3</td>\n",
       "      <td>EAST_N05/095c1</td>\n",
       "    </tr>\n",
       "    <tr>\n",
       "      <th>48</th>\n",
       "      <td>14400</td>\n",
       "      <td>1</td>\n",
       "      <td>EAST_N05/095c1</td>\n",
       "    </tr>\n",
       "    <tr>\n",
       "      <th>...</th>\n",
       "      <td>...</td>\n",
       "      <td>...</td>\n",
       "      <td>...</td>\n",
       "    </tr>\n",
       "    <tr>\n",
       "      <th>228</th>\n",
       "      <td>68400</td>\n",
       "      <td>5</td>\n",
       "      <td>CNTR_N01/353j1</td>\n",
       "    </tr>\n",
       "    <tr>\n",
       "      <th>240</th>\n",
       "      <td>72000</td>\n",
       "      <td>16</td>\n",
       "      <td>CNTR_N01/353j1</td>\n",
       "    </tr>\n",
       "    <tr>\n",
       "      <th>252</th>\n",
       "      <td>75600</td>\n",
       "      <td>17</td>\n",
       "      <td>CNTR_N01/353j1</td>\n",
       "    </tr>\n",
       "    <tr>\n",
       "      <th>264</th>\n",
       "      <td>79200</td>\n",
       "      <td>15</td>\n",
       "      <td>CNTR_N01/353j1</td>\n",
       "    </tr>\n",
       "    <tr>\n",
       "      <th>276</th>\n",
       "      <td>82800</td>\n",
       "      <td>10</td>\n",
       "      <td>CNTR_N01/353j1</td>\n",
       "    </tr>\n",
       "  </tbody>\n",
       "</table>\n",
       "<p>88056 rows × 3 columns</p>\n",
       "</div>"
      ],
      "text/plain": [
       "     interval  traffic           detid\n",
       "0           0        3  EAST_N05/095c1\n",
       "12       3600        1  EAST_N05/095c1\n",
       "24       7200        2  EAST_N05/095c1\n",
       "36      10800        3  EAST_N05/095c1\n",
       "48      14400        1  EAST_N05/095c1\n",
       "..        ...      ...             ...\n",
       "228     68400        5  CNTR_N01/353j1\n",
       "240     72000       16  CNTR_N01/353j1\n",
       "252     75600       17  CNTR_N01/353j1\n",
       "264     79200       15  CNTR_N01/353j1\n",
       "276     82800       10  CNTR_N01/353j1\n",
       "\n",
       "[88056 rows x 3 columns]"
      ]
     },
     "execution_count": 4,
     "metadata": {},
     "output_type": "execute_result"
    }
   ],
   "source": [
    "predictions = mb.get_random_baseline_prediction(models_path, 0)\n",
    "predictions"
   ]
  },
  {
   "cell_type": "code",
   "execution_count": 5,
   "metadata": {},
   "outputs": [
    {
     "data": {
      "text/html": [
       "<div>\n",
       "<style scoped>\n",
       "    .dataframe tbody tr th:only-of-type {\n",
       "        vertical-align: middle;\n",
       "    }\n",
       "\n",
       "    .dataframe tbody tr th {\n",
       "        vertical-align: top;\n",
       "    }\n",
       "\n",
       "    .dataframe thead th {\n",
       "        text-align: right;\n",
       "    }\n",
       "</style>\n",
       "<table border=\"1\" class=\"dataframe\">\n",
       "  <thead>\n",
       "    <tr style=\"text-align: right;\">\n",
       "      <th></th>\n",
       "      <th>Average MAE</th>\n",
       "      <th>Average MSE</th>\n",
       "    </tr>\n",
       "  </thead>\n",
       "  <tbody>\n",
       "    <tr>\n",
       "      <th>0</th>\n",
       "      <td>2.56592</td>\n",
       "      <td>16.632085</td>\n",
       "    </tr>\n",
       "  </tbody>\n",
       "</table>\n",
       "</div>"
      ],
      "text/plain": [
       "   Average MAE  Average MSE\n",
       "0      2.56592    16.632085"
      ]
     },
     "execution_count": 5,
     "metadata": {},
     "output_type": "execute_result"
    }
   ],
   "source": [
    "evaluation = mb.evaluate_random_baseline_models(test_data, models_path)\n",
    "evaluation"
   ]
  },
  {
   "cell_type": "code",
   "execution_count": 6,
   "metadata": {},
   "outputs": [],
   "source": [
    "import matplotlib.pyplot as plt"
   ]
  },
  {
   "cell_type": "code",
   "execution_count": 7,
   "metadata": {},
   "outputs": [],
   "source": [
    "one_sensor_data = predictions[predictions['detid'] == 'EAST_N05/095c1'] \n",
    "X_pred = one_sensor_data.interval\n",
    "y_pred = one_sensor_data.traffic"
   ]
  },
  {
   "cell_type": "code",
   "execution_count": 8,
   "metadata": {},
   "outputs": [],
   "source": [
    "train_data_sensor = train_data[train_data['detid'] == 'EAST_N05/095c1']\n",
    "X_train = train_data_sensor.interval\n",
    "y_train = train_data_sensor.traffic"
   ]
  },
  {
   "cell_type": "code",
   "execution_count": 12,
   "metadata": {},
   "outputs": [],
   "source": [
    "test_data_sensor = test_data[test_data['detid'] == 'EAST_N05/095c1']\n",
    "X_test = test_data_sensor.interval\n",
    "y_test = test_data_sensor.traffic"
   ]
  },
  {
   "cell_type": "code",
   "execution_count": 22,
   "metadata": {},
   "outputs": [
    {
     "data": {
      "text/plain": [
       "<matplotlib.legend.Legend at 0x2a15bfb50>"
      ]
     },
     "execution_count": 22,
     "metadata": {},
     "output_type": "execute_result"
    },
    {
     "data": {
      "image/png": "[encoded data removed]",
      "text/plain": [
       "<Figure size 640x480 with 1 Axes>"
      ]
     },
     "metadata": {},
     "output_type": "display_data"
    }
   ],
   "source": [
    "# plt.scatter(X_train, y_train, color=\"blue\", alpha=0.5, label=\"Test Data\")    \n",
    "plt.scatter(X_test, y_test, color=\"blue\", alpha=0.5, label=\"Test Data\")    \n",
    "plt.scatter(X_pred, y_pred, color=\"red\", alpha=0.5, label=\"Predicted Data\") \n",
    "plt.legend() "
   ]
  },
  {
   "cell_type": "code",
   "execution_count": 15,
   "metadata": {},
   "outputs": [
    {
     "data": {
      "text/html": [
       "<div>\n",
       "<style scoped>\n",
       "    .dataframe tbody tr th:only-of-type {\n",
       "        vertical-align: middle;\n",
       "    }\n",
       "\n",
       "    .dataframe tbody tr th {\n",
       "        vertical-align: top;\n",
       "    }\n",
       "\n",
       "    .dataframe thead th {\n",
       "        text-align: right;\n",
       "    }\n",
       "</style>\n",
       "<table border=\"1\" class=\"dataframe\">\n",
       "  <thead>\n",
       "    <tr style=\"text-align: right;\">\n",
       "      <th></th>\n",
       "      <th>interval</th>\n",
       "      <th>traffic</th>\n",
       "      <th>detid</th>\n",
       "    </tr>\n",
       "  </thead>\n",
       "  <tbody>\n",
       "    <tr>\n",
       "      <th>0</th>\n",
       "      <td>0</td>\n",
       "      <td>3</td>\n",
       "      <td>EAST_N05/095c1</td>\n",
       "    </tr>\n",
       "    <tr>\n",
       "      <th>12</th>\n",
       "      <td>3600</td>\n",
       "      <td>1</td>\n",
       "      <td>EAST_N05/095c1</td>\n",
       "    </tr>\n",
       "    <tr>\n",
       "      <th>24</th>\n",
       "      <td>7200</td>\n",
       "      <td>2</td>\n",
       "      <td>EAST_N05/095c1</td>\n",
       "    </tr>\n",
       "    <tr>\n",
       "      <th>36</th>\n",
       "      <td>10800</td>\n",
       "      <td>3</td>\n",
       "      <td>EAST_N05/095c1</td>\n",
       "    </tr>\n",
       "    <tr>\n",
       "      <th>48</th>\n",
       "      <td>14400</td>\n",
       "      <td>1</td>\n",
       "      <td>EAST_N05/095c1</td>\n",
       "    </tr>\n",
       "    <tr>\n",
       "      <th>...</th>\n",
       "      <td>...</td>\n",
       "      <td>...</td>\n",
       "      <td>...</td>\n",
       "    </tr>\n",
       "    <tr>\n",
       "      <th>228</th>\n",
       "      <td>68400</td>\n",
       "      <td>5</td>\n",
       "      <td>CNTR_N01/353j1</td>\n",
       "    </tr>\n",
       "    <tr>\n",
       "      <th>240</th>\n",
       "      <td>72000</td>\n",
       "      <td>16</td>\n",
       "      <td>CNTR_N01/353j1</td>\n",
       "    </tr>\n",
       "    <tr>\n",
       "      <th>252</th>\n",
       "      <td>75600</td>\n",
       "      <td>17</td>\n",
       "      <td>CNTR_N01/353j1</td>\n",
       "    </tr>\n",
       "    <tr>\n",
       "      <th>264</th>\n",
       "      <td>79200</td>\n",
       "      <td>15</td>\n",
       "      <td>CNTR_N01/353j1</td>\n",
       "    </tr>\n",
       "    <tr>\n",
       "      <th>276</th>\n",
       "      <td>82800</td>\n",
       "      <td>10</td>\n",
       "      <td>CNTR_N01/353j1</td>\n",
       "    </tr>\n",
       "  </tbody>\n",
       "</table>\n",
       "<p>88056 rows × 3 columns</p>\n",
       "</div>"
      ],
      "text/plain": [
       "     interval  traffic           detid\n",
       "0           0        3  EAST_N05/095c1\n",
       "12       3600        1  EAST_N05/095c1\n",
       "24       7200        2  EAST_N05/095c1\n",
       "36      10800        3  EAST_N05/095c1\n",
       "48      14400        1  EAST_N05/095c1\n",
       "..        ...      ...             ...\n",
       "228     68400        5  CNTR_N01/353j1\n",
       "240     72000       16  CNTR_N01/353j1\n",
       "252     75600       17  CNTR_N01/353j1\n",
       "264     79200       15  CNTR_N01/353j1\n",
       "276     82800       10  CNTR_N01/353j1\n",
       "\n",
       "[88056 rows x 3 columns]"
      ]
     },
     "execution_count": 15,
     "metadata": {},
     "output_type": "execute_result"
    }
   ],
   "source": [
    "predictions"
   ]
  },
  {
   "cell_type": "code",
   "execution_count": null,
   "metadata": {},
   "outputs": [
    {
     "data": {
      "text/plain": [
       "<matplotlib.lines.Line2D at 0x2a1591690>"
      ]
     },
     "execution_count": 21,
     "metadata": {},
     "output_type": "execute_result"
    },
    {
     "data": {
      "image/png": "[encoded data removed]",
      "text/plain": [
       "<Figure size 640x480 with 1 Axes>"
      ]
     },
     "metadata": {},
     "output_type": "display_data"
    }
   ],
   "source": [
    "train_show_sensor = train_data[train_data.detid == 'EAST_N04/097c1']\n",
    "x_show = train_show_sensor.interval\n",
    "y_show = train_show_sensor.traffic\n",
    "Q1 = y_show.quantile(0.25)\n",
    "Q3 = y_show.quantile(0.75)\n",
    "\n",
    "plt.scatter(x_show, y_show, color=\"blue\", alpha=0.5, label=\"Test Data\")\n",
    "plt.axhline(y=Q1, color='red', linestyle='--')    \n",
    "plt.axhline(y=Q3, color='red', linestyle='--')\n",
    " "
   ]
  },
  {
   "cell_type": "code",
   "execution_count": 23,
   "metadata": {},
   "outputs": [
    {
     "data": {
      "text/plain": [
       "3.611615943990879"
      ]
     },
     "execution_count": 23,
     "metadata": {},
     "output_type": "execute_result"
    }
   ],
   "source": [
    "train_data.traffic.mean()"
   ]
  },
  {
   "cell_type": "code",
   "execution_count": null,
   "metadata": {},
   "outputs": [
    {
     "name": "stdout",
     "output_type": "stream",
     "text": [
      "0.0\n",
      "4.0\n"
     ]
    }
   ],
   "source": [
    "Q1_all_sensors = train_data.traffic.quantile(0.25)\n",
    "Q3_all_sensors = train_data.traffic.quantile(0.72)\n",
    "print(Q1_all_sensors)\n",
    "print(Q3_all_sensors)\n"
   ]
  },
  {
   "cell_type": "code",
   "execution_count": null,
   "metadata": {},
   "outputs": [],
   "source": []
  }
 ],
 "metadata": {
  "kernelspec": {
   "display_name": "base",
   "language": "python",
   "name": "python3"
  },
  "language_info": {
   "codemirror_mode": {
    "name": "ipython",
    "version": 3
   },
   "file_extension": ".py",
   "mimetype": "text/x-python",
   "name": "python",
   "nbconvert_exporter": "python",
   "pygments_lexer": "ipython3",
   "version": "3.11.5"
  }
 },
 "nbformat": 4,
 "nbformat_minor": 2
}
