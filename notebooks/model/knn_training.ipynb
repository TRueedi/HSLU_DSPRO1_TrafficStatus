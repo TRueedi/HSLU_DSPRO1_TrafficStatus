{
 "cells": [
  {
   "cell_type": "code",
   "execution_count": 2,
   "metadata": {},
   "outputs": [
    {
     "name": "stdout",
     "output_type": "stream",
     "text": [
      "The autoreload extension is already loaded. To reload it, use:\n",
      "  %reload_ext autoreload\n"
     ]
    }
   ],
   "source": [
    "%load_ext autoreload\n",
    "%autoreload 2\n",
    "import pandas as pd\n",
    "import knn_model as knn"
   ]
  },
  {
   "cell_type": "code",
   "execution_count": 11,
   "metadata": {},
   "outputs": [],
   "source": [
    "import knn_model as knn"
   ]
  },
  {
   "cell_type": "code",
   "execution_count": 24,
   "metadata": {},
   "outputs": [],
   "source": [
    "train_data = pd.read_csv('/Users/finneyer/Documents/HSLU/Semester 3/DSPRO1/Projektarbeit/Data/0.4/London_UTD19_train_Sniper_0.csv')\n",
    "train_data = train_data.drop(columns=['day', 'long', 'lat', 'pos', 'length'], axis = 1)\n",
    "test_data = pd.read_csv('/Users/finneyer/Documents/HSLU/Semester 3/DSPRO1/Projektarbeit/Data/0.4/London_UTD19_test_Sniper_0.csv')\n",
    "test_data = test_data.drop(columns=['day', 'long', 'lat', 'pos', 'length'], axis = 1)"
   ]
  },
  {
   "cell_type": "code",
   "execution_count": 25,
   "metadata": {},
   "outputs": [
    {
     "data": {
      "text/html": [
       "<div>\n",
       "<style scoped>\n",
       "    .dataframe tbody tr th:only-of-type {\n",
       "        vertical-align: middle;\n",
       "    }\n",
       "\n",
       "    .dataframe tbody tr th {\n",
       "        vertical-align: top;\n",
       "    }\n",
       "\n",
       "    .dataframe thead th {\n",
       "        text-align: right;\n",
       "    }\n",
       "</style>\n",
       "<table border=\"1\" class=\"dataframe\">\n",
       "  <thead>\n",
       "    <tr style=\"text-align: right;\">\n",
       "      <th></th>\n",
       "      <th>interval</th>\n",
       "      <th>detid</th>\n",
       "      <th>weekday</th>\n",
       "      <th>traffic</th>\n",
       "    </tr>\n",
       "  </thead>\n",
       "  <tbody>\n",
       "    <tr>\n",
       "      <th>0</th>\n",
       "      <td>0.0</td>\n",
       "      <td>CNTR_N00/005g1</td>\n",
       "      <td>Friday</td>\n",
       "      <td>48</td>\n",
       "    </tr>\n",
       "    <tr>\n",
       "      <th>1</th>\n",
       "      <td>3600.0</td>\n",
       "      <td>CNTR_N00/005g1</td>\n",
       "      <td>Friday</td>\n",
       "      <td>41</td>\n",
       "    </tr>\n",
       "    <tr>\n",
       "      <th>2</th>\n",
       "      <td>7200.0</td>\n",
       "      <td>CNTR_N00/005g1</td>\n",
       "      <td>Friday</td>\n",
       "      <td>25</td>\n",
       "    </tr>\n",
       "    <tr>\n",
       "      <th>3</th>\n",
       "      <td>10800.0</td>\n",
       "      <td>CNTR_N00/005g1</td>\n",
       "      <td>Friday</td>\n",
       "      <td>13</td>\n",
       "    </tr>\n",
       "    <tr>\n",
       "      <th>4</th>\n",
       "      <td>14400.0</td>\n",
       "      <td>CNTR_N00/005g1</td>\n",
       "      <td>Friday</td>\n",
       "      <td>14</td>\n",
       "    </tr>\n",
       "    <tr>\n",
       "      <th>...</th>\n",
       "      <td>...</td>\n",
       "      <td>...</td>\n",
       "      <td>...</td>\n",
       "      <td>...</td>\n",
       "    </tr>\n",
       "    <tr>\n",
       "      <th>1664645</th>\n",
       "      <td>72000.0</td>\n",
       "      <td>SOUT_N10/313b1</td>\n",
       "      <td>Sunday</td>\n",
       "      <td>16</td>\n",
       "    </tr>\n",
       "    <tr>\n",
       "      <th>1664646</th>\n",
       "      <td>75600.0</td>\n",
       "      <td>SOUT_N10/313b1</td>\n",
       "      <td>Sunday</td>\n",
       "      <td>6</td>\n",
       "    </tr>\n",
       "    <tr>\n",
       "      <th>1664647</th>\n",
       "      <td>79200.0</td>\n",
       "      <td>SOUT_N10/313b1</td>\n",
       "      <td>Sunday</td>\n",
       "      <td>4</td>\n",
       "    </tr>\n",
       "    <tr>\n",
       "      <th>1664648</th>\n",
       "      <td>82800.0</td>\n",
       "      <td>SOUT_N10/313b1</td>\n",
       "      <td>Sunday</td>\n",
       "      <td>3</td>\n",
       "    </tr>\n",
       "    <tr>\n",
       "      <th>1664649</th>\n",
       "      <td>86400.0</td>\n",
       "      <td>SOUT_N10/313b1</td>\n",
       "      <td>Sunday</td>\n",
       "      <td>1</td>\n",
       "    </tr>\n",
       "  </tbody>\n",
       "</table>\n",
       "<p>1664650 rows × 4 columns</p>\n",
       "</div>"
      ],
      "text/plain": [
       "         interval           detid weekday  traffic\n",
       "0             0.0  CNTR_N00/005g1  Friday       48\n",
       "1          3600.0  CNTR_N00/005g1  Friday       41\n",
       "2          7200.0  CNTR_N00/005g1  Friday       25\n",
       "3         10800.0  CNTR_N00/005g1  Friday       13\n",
       "4         14400.0  CNTR_N00/005g1  Friday       14\n",
       "...           ...             ...     ...      ...\n",
       "1664645   72000.0  SOUT_N10/313b1  Sunday       16\n",
       "1664646   75600.0  SOUT_N10/313b1  Sunday        6\n",
       "1664647   79200.0  SOUT_N10/313b1  Sunday        4\n",
       "1664648   82800.0  SOUT_N10/313b1  Sunday        3\n",
       "1664649   86400.0  SOUT_N10/313b1  Sunday        1\n",
       "\n",
       "[1664650 rows x 4 columns]"
      ]
     },
     "execution_count": 25,
     "metadata": {},
     "output_type": "execute_result"
    }
   ],
   "source": [
    "train_data"
   ]
  },
  {
   "cell_type": "code",
   "execution_count": 5,
   "metadata": {},
   "outputs": [],
   "source": [
    "models_path = '/Users/finneyer/Documents/HSLU/Semester 3/DSPRO1/Projektarbeit/models/knn/0.4'"
   ]
  },
  {
   "cell_type": "code",
   "execution_count": 5,
   "metadata": {},
   "outputs": [],
   "source": [
    "knn.train_knn_models(train_data, models_path)"
   ]
  },
  {
   "cell_type": "code",
   "execution_count": 6,
   "metadata": {},
   "outputs": [
    {
     "name": "stderr",
     "output_type": "stream",
     "text": [
      "/Users/finneyer/anaconda3/lib/python3.11/site-packages/sklearn/metrics/_regression.py:918: UndefinedMetricWarning: R^2 score is not well-defined with less than two samples.\n",
      "  warnings.warn(msg, UndefinedMetricWarning)\n",
      "/Users/finneyer/anaconda3/lib/python3.11/site-packages/sklearn/metrics/_regression.py:918: UndefinedMetricWarning: R^2 score is not well-defined with less than two samples.\n",
      "  warnings.warn(msg, UndefinedMetricWarning)\n"
     ]
    }
   ],
   "source": [
    "metrics = knn.evaluate_knn_models(test_data, models_path)"
   ]
  },
  {
   "cell_type": "code",
   "execution_count": 7,
   "metadata": {},
   "outputs": [
    {
     "data": {
      "text/html": [
       "<div>\n",
       "<style scoped>\n",
       "    .dataframe tbody tr th:only-of-type {\n",
       "        vertical-align: middle;\n",
       "    }\n",
       "\n",
       "    .dataframe tbody tr th {\n",
       "        vertical-align: top;\n",
       "    }\n",
       "\n",
       "    .dataframe thead th {\n",
       "        text-align: right;\n",
       "    }\n",
       "</style>\n",
       "<table border=\"1\" class=\"dataframe\">\n",
       "  <thead>\n",
       "    <tr style=\"text-align: right;\">\n",
       "      <th></th>\n",
       "      <th>detid</th>\n",
       "      <th>MAE</th>\n",
       "      <th>MSE</th>\n",
       "      <th>R2</th>\n",
       "    </tr>\n",
       "  </thead>\n",
       "  <tbody>\n",
       "    <tr>\n",
       "      <th>0</th>\n",
       "      <td>CNTR_N00/005g1</td>\n",
       "      <td>19.290909</td>\n",
       "      <td>467.823636</td>\n",
       "      <td>0.377785</td>\n",
       "    </tr>\n",
       "    <tr>\n",
       "      <th>1</th>\n",
       "      <td>CNTR_N00/005g2</td>\n",
       "      <td>18.177778</td>\n",
       "      <td>485.264444</td>\n",
       "      <td>0.222917</td>\n",
       "    </tr>\n",
       "    <tr>\n",
       "      <th>2</th>\n",
       "      <td>CNTR_N00/005x1</td>\n",
       "      <td>5.904762</td>\n",
       "      <td>60.571429</td>\n",
       "      <td>0.244784</td>\n",
       "    </tr>\n",
       "    <tr>\n",
       "      <th>3</th>\n",
       "      <td>CNTR_N00/005x2</td>\n",
       "      <td>8.566964</td>\n",
       "      <td>133.165458</td>\n",
       "      <td>0.582900</td>\n",
       "    </tr>\n",
       "    <tr>\n",
       "      <th>4</th>\n",
       "      <td>CNTR_N01/001b1</td>\n",
       "      <td>5.750000</td>\n",
       "      <td>92.621528</td>\n",
       "      <td>0.918873</td>\n",
       "    </tr>\n",
       "    <tr>\n",
       "      <th>...</th>\n",
       "      <td>...</td>\n",
       "      <td>...</td>\n",
       "      <td>...</td>\n",
       "      <td>...</td>\n",
       "    </tr>\n",
       "    <tr>\n",
       "      <th>3595</th>\n",
       "      <td>SOUT_N10/265x1</td>\n",
       "      <td>5.785714</td>\n",
       "      <td>54.178571</td>\n",
       "      <td>0.621507</td>\n",
       "    </tr>\n",
       "    <tr>\n",
       "      <th>3596</th>\n",
       "      <td>SOUT_N10/275a1</td>\n",
       "      <td>2.062500</td>\n",
       "      <td>7.673611</td>\n",
       "      <td>0.877704</td>\n",
       "    </tr>\n",
       "    <tr>\n",
       "      <th>3597</th>\n",
       "      <td>SOUT_N10/275b1</td>\n",
       "      <td>1.561224</td>\n",
       "      <td>4.724490</td>\n",
       "      <td>0.827753</td>\n",
       "    </tr>\n",
       "    <tr>\n",
       "      <th>3598</th>\n",
       "      <td>SOUT_N10/313a1</td>\n",
       "      <td>3.604167</td>\n",
       "      <td>19.128472</td>\n",
       "      <td>0.889660</td>\n",
       "    </tr>\n",
       "    <tr>\n",
       "      <th>3599</th>\n",
       "      <td>SOUT_N10/313b1</td>\n",
       "      <td>5.420168</td>\n",
       "      <td>86.985594</td>\n",
       "      <td>0.581981</td>\n",
       "    </tr>\n",
       "  </tbody>\n",
       "</table>\n",
       "<p>3600 rows × 4 columns</p>\n",
       "</div>"
      ],
      "text/plain": [
       "               detid        MAE         MSE        R2\n",
       "0     CNTR_N00/005g1  19.290909  467.823636  0.377785\n",
       "1     CNTR_N00/005g2  18.177778  485.264444  0.222917\n",
       "2     CNTR_N00/005x1   5.904762   60.571429  0.244784\n",
       "3     CNTR_N00/005x2   8.566964  133.165458  0.582900\n",
       "4     CNTR_N01/001b1   5.750000   92.621528  0.918873\n",
       "...              ...        ...         ...       ...\n",
       "3595  SOUT_N10/265x1   5.785714   54.178571  0.621507\n",
       "3596  SOUT_N10/275a1   2.062500    7.673611  0.877704\n",
       "3597  SOUT_N10/275b1   1.561224    4.724490  0.827753\n",
       "3598  SOUT_N10/313a1   3.604167   19.128472  0.889660\n",
       "3599  SOUT_N10/313b1   5.420168   86.985594  0.581981\n",
       "\n",
       "[3600 rows x 4 columns]"
      ]
     },
     "execution_count": 7,
     "metadata": {},
     "output_type": "execute_result"
    }
   ],
   "source": [
    "metrics"
   ]
  },
  {
   "cell_type": "code",
   "execution_count": 8,
   "metadata": {},
   "outputs": [
    {
     "data": {
      "text/plain": [
       "5.84590014035728"
      ]
     },
     "execution_count": 8,
     "metadata": {},
     "output_type": "execute_result"
    }
   ],
   "source": [
    "metrics.MAE.mean()"
   ]
  },
  {
   "cell_type": "code",
   "execution_count": 9,
   "metadata": {},
   "outputs": [
    {
     "data": {
      "text/plain": [
       "108.41933992075019"
      ]
     },
     "execution_count": 9,
     "metadata": {},
     "output_type": "execute_result"
    }
   ],
   "source": [
    "metrics.MSE.mean()"
   ]
  },
  {
   "cell_type": "markdown",
   "metadata": {},
   "source": [
    "## Train KNN 4D model"
   ]
  },
  {
   "cell_type": "code",
   "execution_count": 42,
   "metadata": {},
   "outputs": [],
   "source": [
    "import knn_model_4d as knn_4d"
   ]
  },
  {
   "cell_type": "code",
   "execution_count": 36,
   "metadata": {},
   "outputs": [],
   "source": [
    "save_path_4d = '/Users/finneyer/Documents/HSLU/Semester 3/DSPRO1/Projektarbeit/models/knn/0.4_4d'"
   ]
  },
  {
   "cell_type": "code",
   "execution_count": 31,
   "metadata": {},
   "outputs": [],
   "source": [
    "train_data_cp = train_data.copy()\n",
    "knn_4d.train_4d_knn_model(train_data_cp, save_path_4d)"
   ]
  },
  {
   "cell_type": "code",
   "execution_count": 43,
   "metadata": {},
   "outputs": [],
   "source": [
    "knn_4d_model_path = '/Users/finneyer/Documents/HSLU/Semester 3/DSPRO1/Projektarbeit/models/knn/0.4_4d/knn_4d_model.pkl'\n",
    "knn_4d_label_encoder_path = '/Users/finneyer/Documents/HSLU/Semester 3/DSPRO1/Projektarbeit/models/knn/0.4_4d/label_encoder.pkl'"
   ]
  },
  {
   "cell_type": "code",
   "execution_count": 44,
   "metadata": {},
   "outputs": [],
   "source": [
    "test_data_cp = test_data.copy()\n",
    "evaluation = knn_4d.evaluate_knn_4d_model(test_data_cp, knn_4d_model_path, knn_4d_label_encoder_path)"
   ]
  },
  {
   "cell_type": "code",
   "execution_count": 45,
   "metadata": {},
   "outputs": [
    {
     "data": {
      "text/html": [
       "<div>\n",
       "<style scoped>\n",
       "    .dataframe tbody tr th:only-of-type {\n",
       "        vertical-align: middle;\n",
       "    }\n",
       "\n",
       "    .dataframe tbody tr th {\n",
       "        vertical-align: top;\n",
       "    }\n",
       "\n",
       "    .dataframe thead th {\n",
       "        text-align: right;\n",
       "    }\n",
       "</style>\n",
       "<table border=\"1\" class=\"dataframe\">\n",
       "  <thead>\n",
       "    <tr style=\"text-align: right;\">\n",
       "      <th></th>\n",
       "      <th>MAE</th>\n",
       "      <th>MSE</th>\n",
       "      <th>R2</th>\n",
       "    </tr>\n",
       "  </thead>\n",
       "  <tbody>\n",
       "    <tr>\n",
       "      <th>0</th>\n",
       "      <td>6.365842</td>\n",
       "      <td>137.867875</td>\n",
       "      <td>0.847535</td>\n",
       "    </tr>\n",
       "  </tbody>\n",
       "</table>\n",
       "</div>"
      ],
      "text/plain": [
       "        MAE         MSE        R2\n",
       "0  6.365842  137.867875  0.847535"
      ]
     },
     "execution_count": 45,
     "metadata": {},
     "output_type": "execute_result"
    }
   ],
   "source": [
    "evaluation"
   ]
  },
  {
   "cell_type": "code",
   "execution_count": null,
   "metadata": {},
   "outputs": [],
   "source": []
  }
 ],
 "metadata": {
  "kernelspec": {
   "display_name": "DSPRO",
   "language": "python",
   "name": "python3"
  },
  "language_info": {
   "codemirror_mode": {
    "name": "ipython",
    "version": 3
   },
   "file_extension": ".py",
   "mimetype": "text/x-python",
   "name": "python",
   "nbconvert_exporter": "python",
   "pygments_lexer": "ipython3",
   "version": "3.13.0"
  }
 },
 "nbformat": 4,
 "nbformat_minor": 2
}
