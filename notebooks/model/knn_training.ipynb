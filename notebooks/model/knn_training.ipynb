{
 "cells": [
  {
   "cell_type": "markdown",
   "metadata": {},
   "source": [
    "## Train KNN models"
   ]
  },
  {
   "cell_type": "code",
   "execution_count": 2,
   "metadata": {},
   "outputs": [],
   "source": [
    "import pandas as pd\n",
    "import knn_model as knn"
   ]
  },
  {
   "cell_type": "markdown",
   "metadata": {},
   "source": [
    "### Load data"
   ]
  },
  {
   "cell_type": "code",
   "execution_count": 3,
   "metadata": {},
   "outputs": [],
   "source": [
    "train_data_path = '' # Insert train data path\n",
    "test_data_path = '' # Insert test data path\n",
    "save_path = '' # Insert save path for the models"
   ]
  },
  {
   "cell_type": "code",
   "execution_count": 6,
   "metadata": {},
   "outputs": [],
   "source": [
    "# Load data from dataset 1\n",
    "train_data = pd.read_csv(train_data_path)\n",
    "train_data = train_data.drop(columns=['long', 'lat', 'pos', 'length','fclass'], axis = 1)\n",
    "test_data = pd.read_csv(test_data_path)\n",
    "test_data = test_data.drop(columns=['long', 'lat', 'pos', 'length','fclass'], axis = 1)"
   ]
  },
  {
   "cell_type": "code",
   "execution_count": 9,
   "metadata": {},
   "outputs": [
    {
     "data": {
      "text/html": [
       "<div>\n",
       "<style scoped>\n",
       "    .dataframe tbody tr th:only-of-type {\n",
       "        vertical-align: middle;\n",
       "    }\n",
       "\n",
       "    .dataframe tbody tr th {\n",
       "        vertical-align: top;\n",
       "    }\n",
       "\n",
       "    .dataframe thead th {\n",
       "        text-align: right;\n",
       "    }\n",
       "</style>\n",
       "<table border=\"1\" class=\"dataframe\">\n",
       "  <thead>\n",
       "    <tr style=\"text-align: right;\">\n",
       "      <th></th>\n",
       "      <th>interval</th>\n",
       "      <th>detid</th>\n",
       "      <th>weekday</th>\n",
       "      <th>traffic</th>\n",
       "    </tr>\n",
       "  </thead>\n",
       "  <tbody>\n",
       "    <tr>\n",
       "      <th>0</th>\n",
       "      <td>0.0</td>\n",
       "      <td>CNTR_N00/005g1</td>\n",
       "      <td>Friday</td>\n",
       "      <td>48</td>\n",
       "    </tr>\n",
       "    <tr>\n",
       "      <th>1</th>\n",
       "      <td>0.0</td>\n",
       "      <td>CNTR_N00/005g1</td>\n",
       "      <td>Saturday</td>\n",
       "      <td>48</td>\n",
       "    </tr>\n",
       "    <tr>\n",
       "      <th>2</th>\n",
       "      <td>0.0</td>\n",
       "      <td>CNTR_N00/005g1</td>\n",
       "      <td>Sunday</td>\n",
       "      <td>38</td>\n",
       "    </tr>\n",
       "    <tr>\n",
       "      <th>3</th>\n",
       "      <td>0.0</td>\n",
       "      <td>CNTR_N00/005g1</td>\n",
       "      <td>Monday</td>\n",
       "      <td>18</td>\n",
       "    </tr>\n",
       "    <tr>\n",
       "      <th>4</th>\n",
       "      <td>0.0</td>\n",
       "      <td>CNTR_N00/005g1</td>\n",
       "      <td>Tuesday</td>\n",
       "      <td>28</td>\n",
       "    </tr>\n",
       "    <tr>\n",
       "      <th>...</th>\n",
       "      <td>...</td>\n",
       "      <td>...</td>\n",
       "      <td>...</td>\n",
       "      <td>...</td>\n",
       "    </tr>\n",
       "    <tr>\n",
       "      <th>1611386</th>\n",
       "      <td>86400.0</td>\n",
       "      <td>SOUT_N10/313b1</td>\n",
       "      <td>Tuesday</td>\n",
       "      <td>6</td>\n",
       "    </tr>\n",
       "    <tr>\n",
       "      <th>1611387</th>\n",
       "      <td>86400.0</td>\n",
       "      <td>SOUT_N10/313b1</td>\n",
       "      <td>Wednesday</td>\n",
       "      <td>8</td>\n",
       "    </tr>\n",
       "    <tr>\n",
       "      <th>1611388</th>\n",
       "      <td>86400.0</td>\n",
       "      <td>SOUT_N10/313b1</td>\n",
       "      <td>Thursday</td>\n",
       "      <td>7</td>\n",
       "    </tr>\n",
       "    <tr>\n",
       "      <th>1611389</th>\n",
       "      <td>86400.0</td>\n",
       "      <td>SOUT_N10/313b1</td>\n",
       "      <td>Saturday</td>\n",
       "      <td>13</td>\n",
       "    </tr>\n",
       "    <tr>\n",
       "      <th>1611390</th>\n",
       "      <td>86400.0</td>\n",
       "      <td>SOUT_N10/313b1</td>\n",
       "      <td>Sunday</td>\n",
       "      <td>1</td>\n",
       "    </tr>\n",
       "  </tbody>\n",
       "</table>\n",
       "<p>1611391 rows × 4 columns</p>\n",
       "</div>"
      ],
      "text/plain": [
       "         interval           detid    weekday  traffic\n",
       "0             0.0  CNTR_N00/005g1     Friday       48\n",
       "1             0.0  CNTR_N00/005g1   Saturday       48\n",
       "2             0.0  CNTR_N00/005g1     Sunday       38\n",
       "3             0.0  CNTR_N00/005g1     Monday       18\n",
       "4             0.0  CNTR_N00/005g1    Tuesday       28\n",
       "...           ...             ...        ...      ...\n",
       "1611386   86400.0  SOUT_N10/313b1    Tuesday        6\n",
       "1611387   86400.0  SOUT_N10/313b1  Wednesday        8\n",
       "1611388   86400.0  SOUT_N10/313b1   Thursday        7\n",
       "1611389   86400.0  SOUT_N10/313b1   Saturday       13\n",
       "1611390   86400.0  SOUT_N10/313b1     Sunday        1\n",
       "\n",
       "[1611391 rows x 4 columns]"
      ]
     },
     "execution_count": 9,
     "metadata": {},
     "output_type": "execute_result"
    }
   ],
   "source": [
    "train_data"
   ]
  },
  {
   "cell_type": "markdown",
   "metadata": {},
   "source": [
    "### Train models"
   ]
  },
  {
   "cell_type": "code",
   "execution_count": 10,
   "metadata": {},
   "outputs": [],
   "source": [
    "knn.train_knn_models(train_data, save_path)"
   ]
  },
  {
   "cell_type": "markdown",
   "metadata": {},
   "source": [
    "### Evaluate performance metrics of trained models"
   ]
  },
  {
   "cell_type": "code",
   "execution_count": 11,
   "metadata": {},
   "outputs": [],
   "source": [
    "metrics = knn.evaluate_knn_models(test_data, save_path)"
   ]
  },
  {
   "cell_type": "code",
   "execution_count": 12,
   "metadata": {},
   "outputs": [
    {
     "data": {
      "text/html": [
       "<div>\n",
       "<style scoped>\n",
       "    .dataframe tbody tr th:only-of-type {\n",
       "        vertical-align: middle;\n",
       "    }\n",
       "\n",
       "    .dataframe tbody tr th {\n",
       "        vertical-align: top;\n",
       "    }\n",
       "\n",
       "    .dataframe thead th {\n",
       "        text-align: right;\n",
       "    }\n",
       "</style>\n",
       "<table border=\"1\" class=\"dataframe\">\n",
       "  <thead>\n",
       "    <tr style=\"text-align: right;\">\n",
       "      <th></th>\n",
       "      <th>detid</th>\n",
       "      <th>MAE</th>\n",
       "      <th>MSE</th>\n",
       "      <th>R2</th>\n",
       "    </tr>\n",
       "  </thead>\n",
       "  <tbody>\n",
       "    <tr>\n",
       "      <th>0</th>\n",
       "      <td>CNTR_N00/005g1</td>\n",
       "      <td>31.472000</td>\n",
       "      <td>1182.780800</td>\n",
       "      <td>-0.544120</td>\n",
       "    </tr>\n",
       "    <tr>\n",
       "      <th>1</th>\n",
       "      <td>CNTR_N00/005g2</td>\n",
       "      <td>33.342857</td>\n",
       "      <td>1273.135510</td>\n",
       "      <td>-1.755227</td>\n",
       "    </tr>\n",
       "    <tr>\n",
       "      <th>2</th>\n",
       "      <td>CNTR_N00/005x1</td>\n",
       "      <td>4.120000</td>\n",
       "      <td>25.473469</td>\n",
       "      <td>0.762573</td>\n",
       "    </tr>\n",
       "    <tr>\n",
       "      <th>3</th>\n",
       "      <td>CNTR_N00/005x2</td>\n",
       "      <td>13.608696</td>\n",
       "      <td>379.260870</td>\n",
       "      <td>0.382855</td>\n",
       "    </tr>\n",
       "    <tr>\n",
       "      <th>4</th>\n",
       "      <td>CNTR_N01/001b1</td>\n",
       "      <td>8.720000</td>\n",
       "      <td>147.980000</td>\n",
       "      <td>0.875831</td>\n",
       "    </tr>\n",
       "    <tr>\n",
       "      <th>...</th>\n",
       "      <td>...</td>\n",
       "      <td>...</td>\n",
       "      <td>...</td>\n",
       "      <td>...</td>\n",
       "    </tr>\n",
       "    <tr>\n",
       "      <th>3580</th>\n",
       "      <td>SOUT_N10/265x1</td>\n",
       "      <td>8.293333</td>\n",
       "      <td>104.364444</td>\n",
       "      <td>-5.286409</td>\n",
       "    </tr>\n",
       "    <tr>\n",
       "      <th>3581</th>\n",
       "      <td>SOUT_N10/275a1</td>\n",
       "      <td>1.946667</td>\n",
       "      <td>7.848889</td>\n",
       "      <td>0.861878</td>\n",
       "    </tr>\n",
       "    <tr>\n",
       "      <th>3582</th>\n",
       "      <td>SOUT_N10/275b1</td>\n",
       "      <td>2.320000</td>\n",
       "      <td>9.664000</td>\n",
       "      <td>0.569064</td>\n",
       "    </tr>\n",
       "    <tr>\n",
       "      <th>3583</th>\n",
       "      <td>SOUT_N10/313a1</td>\n",
       "      <td>6.026667</td>\n",
       "      <td>63.591111</td>\n",
       "      <td>0.736261</td>\n",
       "    </tr>\n",
       "    <tr>\n",
       "      <th>3584</th>\n",
       "      <td>SOUT_N10/313b1</td>\n",
       "      <td>4.533333</td>\n",
       "      <td>42.915556</td>\n",
       "      <td>0.703307</td>\n",
       "    </tr>\n",
       "  </tbody>\n",
       "</table>\n",
       "<p>3585 rows × 4 columns</p>\n",
       "</div>"
      ],
      "text/plain": [
       "               detid        MAE          MSE        R2\n",
       "0     CNTR_N00/005g1  31.472000  1182.780800 -0.544120\n",
       "1     CNTR_N00/005g2  33.342857  1273.135510 -1.755227\n",
       "2     CNTR_N00/005x1   4.120000    25.473469  0.762573\n",
       "3     CNTR_N00/005x2  13.608696   379.260870  0.382855\n",
       "4     CNTR_N01/001b1   8.720000   147.980000  0.875831\n",
       "...              ...        ...          ...       ...\n",
       "3580  SOUT_N10/265x1   8.293333   104.364444 -5.286409\n",
       "3581  SOUT_N10/275a1   1.946667     7.848889  0.861878\n",
       "3582  SOUT_N10/275b1   2.320000     9.664000  0.569064\n",
       "3583  SOUT_N10/313a1   6.026667    63.591111  0.736261\n",
       "3584  SOUT_N10/313b1   4.533333    42.915556  0.703307\n",
       "\n",
       "[3585 rows x 4 columns]"
      ]
     },
     "execution_count": 12,
     "metadata": {},
     "output_type": "execute_result"
    }
   ],
   "source": [
    "metrics"
   ]
  },
  {
   "cell_type": "code",
   "execution_count": 13,
   "metadata": {},
   "outputs": [
    {
     "data": {
      "text/plain": [
       "np.float64(6.235037279229177)"
      ]
     },
     "execution_count": 13,
     "metadata": {},
     "output_type": "execute_result"
    }
   ],
   "source": [
    "metrics.MAE.mean()"
   ]
  },
  {
   "cell_type": "code",
   "execution_count": 14,
   "metadata": {},
   "outputs": [
    {
     "data": {
      "text/plain": [
       "np.float64(126.86526547838143)"
      ]
     },
     "execution_count": 14,
     "metadata": {},
     "output_type": "execute_result"
    }
   ],
   "source": [
    "metrics.MSE.mean()"
   ]
  },
  {
   "cell_type": "code",
   "execution_count": 15,
   "metadata": {},
   "outputs": [
    {
     "data": {
      "text/plain": [
       "np.float64(0.023553809482300375)"
      ]
     },
     "execution_count": 15,
     "metadata": {},
     "output_type": "execute_result"
    }
   ],
   "source": [
    "metrics['R2'].mean()"
   ]
  },
  {
   "cell_type": "markdown",
   "metadata": {},
   "source": [
    "## Train a KNN 4D model"
   ]
  },
  {
   "cell_type": "code",
   "execution_count": null,
   "metadata": {},
   "outputs": [],
   "source": [
    "import knn_model_4d as knn_4d"
   ]
  },
  {
   "cell_type": "code",
   "execution_count": null,
   "metadata": {},
   "outputs": [],
   "source": [
    "save_path_4d = '' # Insert save path for the 4D KNN model"
   ]
  },
  {
   "cell_type": "markdown",
   "metadata": {},
   "source": [
    "### Train 4D model"
   ]
  },
  {
   "cell_type": "code",
   "execution_count": null,
   "metadata": {},
   "outputs": [],
   "source": [
    "train_data_cp = train_data.copy()\n",
    "knn_4d.train_4d_knn_model(train_data_cp, save_path_4d)"
   ]
  },
  {
   "cell_type": "code",
   "execution_count": null,
   "metadata": {},
   "outputs": [],
   "source": [
    "knn_4d_model_path = '' # Insert path of the 4D KNN model\n",
    "knn_4d_label_encoder_path = '' # Insert path of the lable encoder of the 4D KNN model"
   ]
  },
  {
   "cell_type": "markdown",
   "metadata": {},
   "source": [
    "### Evaluate performance metrics of 4D model"
   ]
  },
  {
   "cell_type": "code",
   "execution_count": null,
   "metadata": {},
   "outputs": [],
   "source": [
    "test_data_cp = test_data.copy()\n",
    "evaluation = knn_4d.evaluate_knn_4d_model(test_data_cp, knn_4d_model_path, knn_4d_label_encoder_path)"
   ]
  },
  {
   "cell_type": "code",
   "execution_count": null,
   "metadata": {},
   "outputs": [],
   "source": [
    "evaluation"
   ]
  }
 ],
 "metadata": {
  "kernelspec": {
   "display_name": "DSPRO",
   "language": "python",
   "name": "python3"
  },
  "language_info": {
   "codemirror_mode": {
    "name": "ipython",
    "version": 3
   },
   "file_extension": ".py",
   "mimetype": "text/x-python",
   "name": "python",
   "nbconvert_exporter": "python",
   "pygments_lexer": "ipython3",
   "version": "3.13.0"
  }
 },
 "nbformat": 4,
 "nbformat_minor": 2
}
